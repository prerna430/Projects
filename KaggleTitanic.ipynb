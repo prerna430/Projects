{
 "cells": [
  {
   "cell_type": "code",
   "execution_count": 507,
   "metadata": {},
   "outputs": [],
   "source": [
    "import numpy as np\n",
    "import pandas as pd"
   ]
  },
  {
   "cell_type": "code",
   "execution_count": 508,
   "metadata": {},
   "outputs": [],
   "source": [
    "train_file=r'C:\\Users\\VDS\\Desktop\\Prerna Data Science\\pythondata\\Data (1)\\Data/Titanictrain.csv'"
   ]
  },
  {
   "cell_type": "code",
   "execution_count": 509,
   "metadata": {},
   "outputs": [],
   "source": [
    "test_file=r'C:\\Users\\VDS\\Desktop\\Prerna Data Science\\pythondata\\Data (1)\\Data/Titanictest.csv'"
   ]
  },
  {
   "cell_type": "code",
   "execution_count": 510,
   "metadata": {},
   "outputs": [],
   "source": [
    "tt_train=pd.read_csv(train_file)\n",
    "tt_test=pd.read_csv(test_file)\n",
    "tt_train['data']='train'\n",
    "tt_test['data']='test'\n",
    "tt_test['Survived']=np.nan"
   ]
  },
  {
   "cell_type": "code",
   "execution_count": 511,
   "metadata": {},
   "outputs": [
    {
     "data": {
      "text/html": [
       "<div>\n",
       "<style scoped>\n",
       "    .dataframe tbody tr th:only-of-type {\n",
       "        vertical-align: middle;\n",
       "    }\n",
       "\n",
       "    .dataframe tbody tr th {\n",
       "        vertical-align: top;\n",
       "    }\n",
       "\n",
       "    .dataframe thead th {\n",
       "        text-align: right;\n",
       "    }\n",
       "</style>\n",
       "<table border=\"1\" class=\"dataframe\">\n",
       "  <thead>\n",
       "    <tr style=\"text-align: right;\">\n",
       "      <th></th>\n",
       "      <th>PassengerId</th>\n",
       "      <th>Survived</th>\n",
       "      <th>Pclass</th>\n",
       "      <th>Name</th>\n",
       "      <th>Sex</th>\n",
       "      <th>Age</th>\n",
       "      <th>SibSp</th>\n",
       "      <th>Parch</th>\n",
       "      <th>Ticket</th>\n",
       "      <th>Fare</th>\n",
       "      <th>Cabin</th>\n",
       "      <th>Embarked</th>\n",
       "      <th>data</th>\n",
       "    </tr>\n",
       "  </thead>\n",
       "  <tbody>\n",
       "    <tr>\n",
       "      <th>0</th>\n",
       "      <td>1</td>\n",
       "      <td>0</td>\n",
       "      <td>3</td>\n",
       "      <td>Braund, Mr. Owen Harris</td>\n",
       "      <td>male</td>\n",
       "      <td>22.0</td>\n",
       "      <td>1</td>\n",
       "      <td>0</td>\n",
       "      <td>A/5 21171</td>\n",
       "      <td>7.2500</td>\n",
       "      <td>NaN</td>\n",
       "      <td>S</td>\n",
       "      <td>train</td>\n",
       "    </tr>\n",
       "    <tr>\n",
       "      <th>1</th>\n",
       "      <td>2</td>\n",
       "      <td>1</td>\n",
       "      <td>1</td>\n",
       "      <td>Cumings, Mrs. John Bradley (Florence Briggs Th...</td>\n",
       "      <td>female</td>\n",
       "      <td>38.0</td>\n",
       "      <td>1</td>\n",
       "      <td>0</td>\n",
       "      <td>PC 17599</td>\n",
       "      <td>71.2833</td>\n",
       "      <td>C85</td>\n",
       "      <td>C</td>\n",
       "      <td>train</td>\n",
       "    </tr>\n",
       "    <tr>\n",
       "      <th>2</th>\n",
       "      <td>3</td>\n",
       "      <td>1</td>\n",
       "      <td>3</td>\n",
       "      <td>Heikkinen, Miss. Laina</td>\n",
       "      <td>female</td>\n",
       "      <td>26.0</td>\n",
       "      <td>0</td>\n",
       "      <td>0</td>\n",
       "      <td>STON/O2. 3101282</td>\n",
       "      <td>7.9250</td>\n",
       "      <td>NaN</td>\n",
       "      <td>S</td>\n",
       "      <td>train</td>\n",
       "    </tr>\n",
       "    <tr>\n",
       "      <th>3</th>\n",
       "      <td>4</td>\n",
       "      <td>1</td>\n",
       "      <td>1</td>\n",
       "      <td>Futrelle, Mrs. Jacques Heath (Lily May Peel)</td>\n",
       "      <td>female</td>\n",
       "      <td>35.0</td>\n",
       "      <td>1</td>\n",
       "      <td>0</td>\n",
       "      <td>113803</td>\n",
       "      <td>53.1000</td>\n",
       "      <td>C123</td>\n",
       "      <td>S</td>\n",
       "      <td>train</td>\n",
       "    </tr>\n",
       "    <tr>\n",
       "      <th>4</th>\n",
       "      <td>5</td>\n",
       "      <td>0</td>\n",
       "      <td>3</td>\n",
       "      <td>Allen, Mr. William Henry</td>\n",
       "      <td>male</td>\n",
       "      <td>35.0</td>\n",
       "      <td>0</td>\n",
       "      <td>0</td>\n",
       "      <td>373450</td>\n",
       "      <td>8.0500</td>\n",
       "      <td>NaN</td>\n",
       "      <td>S</td>\n",
       "      <td>train</td>\n",
       "    </tr>\n",
       "  </tbody>\n",
       "</table>\n",
       "</div>"
      ],
      "text/plain": [
       "   PassengerId  Survived  Pclass  \\\n",
       "0            1         0       3   \n",
       "1            2         1       1   \n",
       "2            3         1       3   \n",
       "3            4         1       1   \n",
       "4            5         0       3   \n",
       "\n",
       "                                                Name     Sex   Age  SibSp  \\\n",
       "0                            Braund, Mr. Owen Harris    male  22.0      1   \n",
       "1  Cumings, Mrs. John Bradley (Florence Briggs Th...  female  38.0      1   \n",
       "2                             Heikkinen, Miss. Laina  female  26.0      0   \n",
       "3       Futrelle, Mrs. Jacques Heath (Lily May Peel)  female  35.0      1   \n",
       "4                           Allen, Mr. William Henry    male  35.0      0   \n",
       "\n",
       "   Parch            Ticket     Fare Cabin Embarked   data  \n",
       "0      0         A/5 21171   7.2500   NaN        S  train  \n",
       "1      0          PC 17599  71.2833   C85        C  train  \n",
       "2      0  STON/O2. 3101282   7.9250   NaN        S  train  \n",
       "3      0            113803  53.1000  C123        S  train  \n",
       "4      0            373450   8.0500   NaN        S  train  "
      ]
     },
     "execution_count": 511,
     "metadata": {},
     "output_type": "execute_result"
    }
   ],
   "source": [
    "tt_train.head()\n"
   ]
  },
  {
   "cell_type": "code",
   "execution_count": 512,
   "metadata": {},
   "outputs": [
    {
     "data": {
      "text/html": [
       "<div>\n",
       "<style scoped>\n",
       "    .dataframe tbody tr th:only-of-type {\n",
       "        vertical-align: middle;\n",
       "    }\n",
       "\n",
       "    .dataframe tbody tr th {\n",
       "        vertical-align: top;\n",
       "    }\n",
       "\n",
       "    .dataframe thead th {\n",
       "        text-align: right;\n",
       "    }\n",
       "</style>\n",
       "<table border=\"1\" class=\"dataframe\">\n",
       "  <thead>\n",
       "    <tr style=\"text-align: right;\">\n",
       "      <th></th>\n",
       "      <th>PassengerId</th>\n",
       "      <th>Pclass</th>\n",
       "      <th>Name</th>\n",
       "      <th>Sex</th>\n",
       "      <th>Age</th>\n",
       "      <th>SibSp</th>\n",
       "      <th>Parch</th>\n",
       "      <th>Ticket</th>\n",
       "      <th>Fare</th>\n",
       "      <th>Cabin</th>\n",
       "      <th>Embarked</th>\n",
       "      <th>data</th>\n",
       "      <th>Survived</th>\n",
       "    </tr>\n",
       "  </thead>\n",
       "  <tbody>\n",
       "    <tr>\n",
       "      <th>0</th>\n",
       "      <td>892</td>\n",
       "      <td>3</td>\n",
       "      <td>Kelly, Mr. James</td>\n",
       "      <td>male</td>\n",
       "      <td>34.5</td>\n",
       "      <td>0</td>\n",
       "      <td>0</td>\n",
       "      <td>330911</td>\n",
       "      <td>7.8292</td>\n",
       "      <td>NaN</td>\n",
       "      <td>Q</td>\n",
       "      <td>test</td>\n",
       "      <td>NaN</td>\n",
       "    </tr>\n",
       "    <tr>\n",
       "      <th>1</th>\n",
       "      <td>893</td>\n",
       "      <td>3</td>\n",
       "      <td>Wilkes, Mrs. James (Ellen Needs)</td>\n",
       "      <td>female</td>\n",
       "      <td>47.0</td>\n",
       "      <td>1</td>\n",
       "      <td>0</td>\n",
       "      <td>363272</td>\n",
       "      <td>7.0000</td>\n",
       "      <td>NaN</td>\n",
       "      <td>S</td>\n",
       "      <td>test</td>\n",
       "      <td>NaN</td>\n",
       "    </tr>\n",
       "    <tr>\n",
       "      <th>2</th>\n",
       "      <td>894</td>\n",
       "      <td>2</td>\n",
       "      <td>Myles, Mr. Thomas Francis</td>\n",
       "      <td>male</td>\n",
       "      <td>62.0</td>\n",
       "      <td>0</td>\n",
       "      <td>0</td>\n",
       "      <td>240276</td>\n",
       "      <td>9.6875</td>\n",
       "      <td>NaN</td>\n",
       "      <td>Q</td>\n",
       "      <td>test</td>\n",
       "      <td>NaN</td>\n",
       "    </tr>\n",
       "    <tr>\n",
       "      <th>3</th>\n",
       "      <td>895</td>\n",
       "      <td>3</td>\n",
       "      <td>Wirz, Mr. Albert</td>\n",
       "      <td>male</td>\n",
       "      <td>27.0</td>\n",
       "      <td>0</td>\n",
       "      <td>0</td>\n",
       "      <td>315154</td>\n",
       "      <td>8.6625</td>\n",
       "      <td>NaN</td>\n",
       "      <td>S</td>\n",
       "      <td>test</td>\n",
       "      <td>NaN</td>\n",
       "    </tr>\n",
       "    <tr>\n",
       "      <th>4</th>\n",
       "      <td>896</td>\n",
       "      <td>3</td>\n",
       "      <td>Hirvonen, Mrs. Alexander (Helga E Lindqvist)</td>\n",
       "      <td>female</td>\n",
       "      <td>22.0</td>\n",
       "      <td>1</td>\n",
       "      <td>1</td>\n",
       "      <td>3101298</td>\n",
       "      <td>12.2875</td>\n",
       "      <td>NaN</td>\n",
       "      <td>S</td>\n",
       "      <td>test</td>\n",
       "      <td>NaN</td>\n",
       "    </tr>\n",
       "  </tbody>\n",
       "</table>\n",
       "</div>"
      ],
      "text/plain": [
       "   PassengerId  Pclass                                          Name     Sex  \\\n",
       "0          892       3                              Kelly, Mr. James    male   \n",
       "1          893       3              Wilkes, Mrs. James (Ellen Needs)  female   \n",
       "2          894       2                     Myles, Mr. Thomas Francis    male   \n",
       "3          895       3                              Wirz, Mr. Albert    male   \n",
       "4          896       3  Hirvonen, Mrs. Alexander (Helga E Lindqvist)  female   \n",
       "\n",
       "    Age  SibSp  Parch   Ticket     Fare Cabin Embarked  data  Survived  \n",
       "0  34.5      0      0   330911   7.8292   NaN        Q  test       NaN  \n",
       "1  47.0      1      0   363272   7.0000   NaN        S  test       NaN  \n",
       "2  62.0      0      0   240276   9.6875   NaN        Q  test       NaN  \n",
       "3  27.0      0      0   315154   8.6625   NaN        S  test       NaN  \n",
       "4  22.0      1      1  3101298  12.2875   NaN        S  test       NaN  "
      ]
     },
     "execution_count": 512,
     "metadata": {},
     "output_type": "execute_result"
    }
   ],
   "source": [
    "tt_test.head()"
   ]
  },
  {
   "cell_type": "code",
   "execution_count": 513,
   "metadata": {},
   "outputs": [],
   "source": [
    "tt_test=tt_test[tt_train.columns]"
   ]
  },
  {
   "cell_type": "code",
   "execution_count": 514,
   "metadata": {},
   "outputs": [],
   "source": [
    "tt_all=pd.concat([tt_train,tt_test],axis=0)"
   ]
  },
  {
   "cell_type": "code",
   "execution_count": null,
   "metadata": {},
   "outputs": [],
   "source": []
  },
  {
   "cell_type": "code",
   "execution_count": null,
   "metadata": {},
   "outputs": [],
   "source": []
  },
  {
   "cell_type": "code",
   "execution_count": 515,
   "metadata": {},
   "outputs": [
    {
     "data": {
      "text/plain": [
       "[('PassengerId', dtype('int64'), 1309),\n",
       " ('Survived', dtype('float64'), 2),\n",
       " ('Pclass', dtype('int64'), 3),\n",
       " ('Name', dtype('O'), 1307),\n",
       " ('Sex', dtype('O'), 2),\n",
       " ('Age', dtype('float64'), 98),\n",
       " ('SibSp', dtype('int64'), 7),\n",
       " ('Parch', dtype('int64'), 8),\n",
       " ('Ticket', dtype('O'), 929),\n",
       " ('Fare', dtype('float64'), 281),\n",
       " ('Cabin', dtype('O'), 186),\n",
       " ('Embarked', dtype('O'), 3),\n",
       " ('data', dtype('O'), 2)]"
      ]
     },
     "execution_count": 515,
     "metadata": {},
     "output_type": "execute_result"
    }
   ],
   "source": [
    "list(zip(tt_all.columns,tt_all.dtypes,tt_all.nunique())) "
   ]
  },
  {
   "cell_type": "code",
   "execution_count": null,
   "metadata": {},
   "outputs": [],
   "source": []
  },
  {
   "cell_type": "code",
   "execution_count": 516,
   "metadata": {},
   "outputs": [],
   "source": [
    "tt_all.drop(['PassengerId','Fare','Cabin'],axis=1,inplace=True)"
   ]
  },
  {
   "cell_type": "code",
   "execution_count": null,
   "metadata": {},
   "outputs": [],
   "source": []
  },
  {
   "cell_type": "code",
   "execution_count": null,
   "metadata": {},
   "outputs": [],
   "source": []
  },
  {
   "cell_type": "code",
   "execution_count": 517,
   "metadata": {},
   "outputs": [
    {
     "data": {
      "text/plain": [
       "Survived    float64\n",
       "Pclass        int64\n",
       "Name         object\n",
       "Sex          object\n",
       "Age         float64\n",
       "SibSp         int64\n",
       "Parch         int64\n",
       "Ticket       object\n",
       "Embarked     object\n",
       "data         object\n",
       "dtype: object"
      ]
     },
     "execution_count": 517,
     "metadata": {},
     "output_type": "execute_result"
    }
   ],
   "source": [
    "tt_all.dtypes"
   ]
  },
  {
   "cell_type": "code",
   "execution_count": null,
   "metadata": {},
   "outputs": [],
   "source": []
  },
  {
   "cell_type": "code",
   "execution_count": null,
   "metadata": {},
   "outputs": [],
   "source": []
  },
  {
   "cell_type": "code",
   "execution_count": null,
   "metadata": {},
   "outputs": [],
   "source": []
  },
  {
   "cell_type": "code",
   "execution_count": null,
   "metadata": {},
   "outputs": [],
   "source": []
  },
  {
   "cell_type": "code",
   "execution_count": 518,
   "metadata": {},
   "outputs": [],
   "source": [
    "tt_all.drop(['Name','Ticket'],axis=1,inplace=True)"
   ]
  },
  {
   "cell_type": "code",
   "execution_count": null,
   "metadata": {},
   "outputs": [],
   "source": []
  },
  {
   "cell_type": "code",
   "execution_count": null,
   "metadata": {},
   "outputs": [],
   "source": []
  },
  {
   "cell_type": "code",
   "execution_count": 519,
   "metadata": {},
   "outputs": [
    {
     "data": {
      "text/plain": [
       "Index(['Sex', 'Embarked', 'data'], dtype='object')"
      ]
     },
     "execution_count": 519,
     "metadata": {},
     "output_type": "execute_result"
    }
   ],
   "source": [
    "cat_vars=tt_all.select_dtypes(['object']).columns\n",
    "cat_vars"
   ]
  },
  {
   "cell_type": "code",
   "execution_count": null,
   "metadata": {},
   "outputs": [],
   "source": []
  },
  {
   "cell_type": "code",
   "execution_count": 520,
   "metadata": {},
   "outputs": [
    {
     "name": "stdout",
     "output_type": "stream",
     "text": [
      "Sex\n",
      "Embarked\n"
     ]
    }
   ],
   "source": [
    "for col in cat_vars[:-1]:\n",
    "    dummy=pd.get_dummies(tt_all[col],drop_first=True,prefix=col) # dropfirtst is removing 1st value, prefix=col is the colname\n",
    "    tt_all=pd.concat([tt_all,dummy],axis=1)\n",
    "    del tt_all[col]\n",
    "    print(col)\n",
    "del dummy"
   ]
  },
  {
   "cell_type": "code",
   "execution_count": 521,
   "metadata": {},
   "outputs": [
    {
     "data": {
      "text/plain": [
       "Survived      418\n",
       "Pclass          0\n",
       "Age           263\n",
       "SibSp           0\n",
       "Parch           0\n",
       "data            0\n",
       "Sex_male        0\n",
       "Embarked_Q      0\n",
       "Embarked_S      0\n",
       "dtype: int64"
      ]
     },
     "execution_count": 521,
     "metadata": {},
     "output_type": "execute_result"
    }
   ],
   "source": [
    "tt_all.isnull().sum()\n"
   ]
  },
  {
   "cell_type": "code",
   "execution_count": 522,
   "metadata": {},
   "outputs": [],
   "source": [
    "tt_all.loc[tt_all['Age'].isnull(),'Age']=tt_all.loc[tt_all['data']=='train','Age'].mean()\n"
   ]
  },
  {
   "cell_type": "code",
   "execution_count": null,
   "metadata": {},
   "outputs": [],
   "source": []
  },
  {
   "cell_type": "code",
   "execution_count": null,
   "metadata": {},
   "outputs": [],
   "source": []
  },
  {
   "cell_type": "code",
   "execution_count": 523,
   "metadata": {},
   "outputs": [],
   "source": [
    "from sklearn.linear_model import LogisticRegression\n",
    "from sklearn.metrics import roc_auc_score\n",
    "from sklearn.linear_model import Ridge,Lasso\n",
    "from sklearn.model_selection import GridSearchCV"
   ]
  },
  {
   "cell_type": "code",
   "execution_count": 524,
   "metadata": {},
   "outputs": [],
   "source": [
    "params={'class_weight':['balanced',None], #will give equal weighatage to output variables  for balanced and n\n",
    "        'penalty':['l1','l2'], #will check l1 is lasso and l2 is ridge\n",
    "        'C':np.linspace(0.01,1000,10)} #C is inverse of lambda # so it will check 40 values 2*2*10 i.e balanced, none for 1st 2 and \n",
    "#then 2nd 2 value for lasso and ridge and 10 valuesbetween 0/001 ad 1000"
   ]
  },
  {
   "cell_type": "code",
   "execution_count": 525,
   "metadata": {},
   "outputs": [],
   "source": [
    "model=LogisticRegression(fit_intercept=True)"
   ]
  },
  {
   "cell_type": "code",
   "execution_count": 526,
   "metadata": {},
   "outputs": [],
   "source": [
    "grid_search=GridSearchCV(model,param_grid=params,cv=5,scoring=\"roc_auc\",verbose=4) #verbose is used to print back end proceeses"
   ]
  },
  {
   "cell_type": "code",
   "execution_count": 528,
   "metadata": {},
   "outputs": [
    {
     "name": "stderr",
     "output_type": "stream",
     "text": [
      "C:\\Users\\VDS\\Anaconda3\\lib\\site-packages\\ipykernel_launcher.py:4: SettingWithCopyWarning: \n",
      "A value is trying to be set on a copy of a slice from a DataFrame\n",
      "\n",
      "See the caveats in the documentation: http://pandas.pydata.org/pandas-docs/stable/indexing.html#indexing-view-versus-copy\n",
      "  after removing the cwd from sys.path.\n"
     ]
    }
   ],
   "source": [
    "train1=tt_all[tt_all['data']=='train']\n",
    "del train1['data']\n",
    "test1=tt_all[tt_all['data']=='test']\n",
    "test1.drop(['data'],axis=1,inplace=True)\n",
    "\n",
    "x_train=train1.drop('Survived',axis=1)\n",
    "y_train=train1['Survived']\n",
    "x_test=test1.drop('Survived',axis=1)\n",
    "y_test=test1['Survived']"
   ]
  },
  {
   "cell_type": "code",
   "execution_count": 529,
   "metadata": {},
   "outputs": [
    {
     "data": {
      "text/plain": [
       "Survived      float64\n",
       "Pclass          int64\n",
       "Age           float64\n",
       "SibSp           int64\n",
       "Parch           int64\n",
       "Sex_male        uint8\n",
       "Embarked_Q      uint8\n",
       "Embarked_S      uint8\n",
       "dtype: object"
      ]
     },
     "execution_count": 529,
     "metadata": {},
     "output_type": "execute_result"
    }
   ],
   "source": [
    "train1.dtypes"
   ]
  },
  {
   "cell_type": "code",
   "execution_count": null,
   "metadata": {},
   "outputs": [],
   "source": []
  },
  {
   "cell_type": "code",
   "execution_count": null,
   "metadata": {},
   "outputs": [],
   "source": []
  },
  {
   "cell_type": "code",
   "execution_count": 530,
   "metadata": {},
   "outputs": [
    {
     "name": "stdout",
     "output_type": "stream",
     "text": [
      "Fitting 5 folds for each of 40 candidates, totalling 200 fits\n",
      "[CV] C=0.01, class_weight=balanced, penalty=l1 .......................\n",
      "[CV]  C=0.01, class_weight=balanced, penalty=l1, score=0.5873517786561264, total=   1.2s\n",
      "[CV] C=0.01, class_weight=balanced, penalty=l1 .......................\n",
      "[CV]  C=0.01, class_weight=balanced, penalty=l1, score=0.5433465085638999, total=   0.0s\n",
      "[CV] C=0.01, class_weight=balanced, penalty=l1 .......................\n",
      "[CV]  C=0.01, class_weight=balanced, penalty=l1, score=0.4907085561497327, total=   0.0s\n",
      "[CV] C=0.01, class_weight=balanced, penalty=l1 .......................\n",
      "[CV]  C=0.01, class_weight=balanced, penalty=l1, score=0.516042780748663, total=   0.0s\n",
      "[CV] C=0.01, class_weight=balanced, penalty=l1 .......................\n",
      "[CV]  C=0.01, class_weight=balanced, penalty=l1, score=0.5169320021586616, total=   0.0s\n",
      "[CV] C=0.01, class_weight=balanced, penalty=l2 .......................\n",
      "[CV]  C=0.01, class_weight=balanced, penalty=l2, score=0.7397233201581028, total=   0.0s\n",
      "[CV] C=0.01, class_weight=balanced, penalty=l2 .......................\n",
      "[CV]  C=0.01, class_weight=balanced, penalty=l2, score=0.7763504611330698, total=   0.0s\n",
      "[CV] C=0.01, class_weight=balanced, penalty=l2 .......................\n",
      "[CV]  C=0.01, class_weight=balanced, penalty=l2, score=0.8177807486631016, total=   0.0s\n",
      "[CV] C=0.01, class_weight=balanced, penalty=l2 .......................\n",
      "[CV]  C=0.01, class_weight=balanced, penalty=l2, score=0.7911764705882353, total=   0.0s\n",
      "[CV] C=0.01, class_weight=balanced, penalty=l2 .......................\n",
      "[CV]  C=0.01, class_weight=balanced, penalty=l2, score=0.7841338370210469, total=   0.0s\n",
      "[CV] C=0.01, class_weight=None, penalty=l1 ...........................\n"
     ]
    },
    {
     "name": "stderr",
     "output_type": "stream",
     "text": [
      "[Parallel(n_jobs=1)]: Done   1 out of   1 | elapsed:    1.2s remaining:    0.0s\n",
      "[Parallel(n_jobs=1)]: Done   2 out of   2 | elapsed:    1.3s remaining:    0.0s\n",
      "[Parallel(n_jobs=1)]: Done   3 out of   3 | elapsed:    1.3s remaining:    0.0s\n"
     ]
    },
    {
     "name": "stdout",
     "output_type": "stream",
     "text": [
      "[CV]  C=0.01, class_weight=None, penalty=l1, score=0.6202898550724637, total=   0.0s\n",
      "[CV] C=0.01, class_weight=None, penalty=l1 ...........................\n",
      "[CV]  C=0.01, class_weight=None, penalty=l1, score=0.6617918313570487, total=   0.0s\n",
      "[CV] C=0.01, class_weight=None, penalty=l1 ...........................\n",
      "[CV]  C=0.01, class_weight=None, penalty=l1, score=0.5776069518716578, total=   0.0s\n",
      "[CV] C=0.01, class_weight=None, penalty=l1 ...........................\n",
      "[CV]  C=0.01, class_weight=None, penalty=l1, score=0.568716577540107, total=   0.0s\n",
      "[CV] C=0.01, class_weight=None, penalty=l1 ...........................\n",
      "[CV]  C=0.01, class_weight=None, penalty=l1, score=0.576160280626012, total=   0.0s\n",
      "[CV] C=0.01, class_weight=None, penalty=l2 ...........................\n",
      "[CV]  C=0.01, class_weight=None, penalty=l2, score=0.7654150197628459, total=   0.0s\n",
      "[CV] C=0.01, class_weight=None, penalty=l2 ...........................\n",
      "[CV]  C=0.01, class_weight=None, penalty=l2, score=0.7926877470355732, total=   0.0s\n",
      "[CV] C=0.01, class_weight=None, penalty=l2 ...........................\n",
      "[CV]  C=0.01, class_weight=None, penalty=l2, score=0.8433155080213903, total=   0.0s\n",
      "[CV] C=0.01, class_weight=None, penalty=l2 ...........................\n",
      "[CV]  C=0.01, class_weight=None, penalty=l2, score=0.8148395721925134, total=   0.0s\n",
      "[CV] C=0.01, class_weight=None, penalty=l2 ...........................\n",
      "[CV]  C=0.01, class_weight=None, penalty=l2, score=0.8306799784133837, total=   0.0s\n",
      "[CV] C=111.12, class_weight=balanced, penalty=l1 .....................\n",
      "[CV]  C=111.12, class_weight=balanced, penalty=l1, score=0.8482872200263505, total=   0.0s\n",
      "[CV] C=111.12, class_weight=balanced, penalty=l1 .....................\n",
      "[CV]  C=111.12, class_weight=balanced, penalty=l1, score=0.8327404479578393, total=   0.0s\n",
      "[CV] C=111.12, class_weight=balanced, penalty=l1 .....................\n",
      "[CV]  C=111.12, class_weight=balanced, penalty=l1, score=0.8568181818181818, total=   0.0s\n",
      "[CV] C=111.12, class_weight=balanced, penalty=l1 .....................\n",
      "[CV]  C=111.12, class_weight=balanced, penalty=l1, score=0.8334224598930481, total=   0.0s\n",
      "[CV] C=111.12, class_weight=balanced, penalty=l1 .....................\n",
      "[CV]  C=111.12, class_weight=balanced, penalty=l1, score=0.8720992984349704, total=   0.0s\n",
      "[CV] C=111.12, class_weight=balanced, penalty=l2 .....................\n",
      "[CV]  C=111.12, class_weight=balanced, penalty=l2, score=0.8484189723320157, total=   0.0s\n",
      "[CV] C=111.12, class_weight=balanced, penalty=l2 .....................\n",
      "[CV]  C=111.12, class_weight=balanced, penalty=l2, score=0.8327404479578393, total=   0.0s\n",
      "[CV] C=111.12, class_weight=balanced, penalty=l2 .....................\n",
      "[CV]  C=111.12, class_weight=balanced, penalty=l2, score=0.8568181818181818, total=   0.0s\n",
      "[CV] C=111.12, class_weight=balanced, penalty=l2 .....................\n",
      "[CV]  C=111.12, class_weight=balanced, penalty=l2, score=0.8332887700534759, total=   0.0s\n",
      "[CV] C=111.12, class_weight=balanced, penalty=l2 .....................\n",
      "[CV]  C=111.12, class_weight=balanced, penalty=l2, score=0.8725040474905559, total=   0.0s\n",
      "[CV] C=111.12, class_weight=None, penalty=l1 .........................\n",
      "[CV]  C=111.12, class_weight=None, penalty=l1, score=0.8481554677206851, total=   0.0s\n",
      "[CV] C=111.12, class_weight=None, penalty=l1 .........................\n",
      "[CV]  C=111.12, class_weight=None, penalty=l1, score=0.8327404479578392, total=   0.0s\n",
      "[CV] C=111.12, class_weight=None, penalty=l1 .........................\n",
      "[CV]  C=111.12, class_weight=None, penalty=l1, score=0.8584224598930481, total=   0.0s\n",
      "[CV] C=111.12, class_weight=None, penalty=l1 .........................\n",
      "[CV]  C=111.12, class_weight=None, penalty=l1, score=0.8359625668449198, total=   0.0s\n",
      "[CV] C=111.12, class_weight=None, penalty=l1 .........................\n",
      "[CV]  C=111.12, class_weight=None, penalty=l1, score=0.8718294657312465, total=   0.0s\n",
      "[CV] C=111.12, class_weight=None, penalty=l2 .........................\n",
      "[CV]  C=111.12, class_weight=None, penalty=l2, score=0.8485507246376811, total=   0.0s\n",
      "[CV] C=111.12, class_weight=None, penalty=l2 .........................\n",
      "[CV]  C=111.12, class_weight=None, penalty=l2, score=0.8328722002635046, total=   0.0s\n",
      "[CV] C=111.12, class_weight=None, penalty=l2 .........................\n",
      "[CV]  C=111.12, class_weight=None, penalty=l2, score=0.8584224598930481, total=   0.0s\n",
      "[CV] C=111.12, class_weight=None, penalty=l2 .........................\n",
      "[CV]  C=111.12, class_weight=None, penalty=l2, score=0.8358288770053476, total=   0.0s\n",
      "[CV] C=111.12, class_weight=None, penalty=l2 .........................\n",
      "[CV]  C=111.12, class_weight=None, penalty=l2, score=0.8718294657312465, total=   0.0s\n",
      "[CV] C=222.23, class_weight=balanced, penalty=l1 .....................\n",
      "[CV]  C=222.23, class_weight=balanced, penalty=l1, score=0.8482872200263505, total=   0.0s\n",
      "[CV] C=222.23, class_weight=balanced, penalty=l1 .....................\n",
      "[CV]  C=222.23, class_weight=balanced, penalty=l1, score=0.8327404479578393, total=   0.0s\n",
      "[CV] C=222.23, class_weight=balanced, penalty=l1 .....................\n",
      "[CV]  C=222.23, class_weight=balanced, penalty=l1, score=0.8568181818181818, total=   0.0s\n",
      "[CV] C=222.23, class_weight=balanced, penalty=l1 .....................\n",
      "[CV]  C=222.23, class_weight=balanced, penalty=l1, score=0.8334224598930481, total=   0.0s\n",
      "[CV] C=222.23, class_weight=balanced, penalty=l1 .....................\n",
      "[CV]  C=222.23, class_weight=balanced, penalty=l1, score=0.8720992984349704, total=   0.0s\n",
      "[CV] C=222.23, class_weight=balanced, penalty=l2 .....................\n",
      "[CV]  C=222.23, class_weight=balanced, penalty=l2, score=0.8482872200263505, total=   0.0s\n",
      "[CV] C=222.23, class_weight=balanced, penalty=l2 .....................\n",
      "[CV]  C=222.23, class_weight=balanced, penalty=l2, score=0.8327404479578393, total=   0.0s\n",
      "[CV] C=222.23, class_weight=balanced, penalty=l2 .....................\n",
      "[CV]  C=222.23, class_weight=balanced, penalty=l2, score=0.8568181818181818, total=   0.0s\n",
      "[CV] C=222.23, class_weight=balanced, penalty=l2 .....................\n",
      "[CV]  C=222.23, class_weight=balanced, penalty=l2, score=0.8334224598930481, total=   0.0s\n",
      "[CV] C=222.23, class_weight=balanced, penalty=l2 .....................\n",
      "[CV]  C=222.23, class_weight=balanced, penalty=l2, score=0.8720992984349704, total=   0.0s\n",
      "[CV] C=222.23, class_weight=None, penalty=l1 .........................\n",
      "[CV]  C=222.23, class_weight=None, penalty=l1, score=0.8482872200263504, total=   0.0s\n",
      "[CV] C=222.23, class_weight=None, penalty=l1 .........................\n",
      "[CV]  C=222.23, class_weight=None, penalty=l1, score=0.8327404479578392, total=   0.0s\n",
      "[CV] C=222.23, class_weight=None, penalty=l1 .........................\n",
      "[CV]  C=222.23, class_weight=None, penalty=l1, score=0.8584224598930481, total=   0.0s\n",
      "[CV] C=222.23, class_weight=None, penalty=l1 .........................\n",
      "[CV]  C=222.23, class_weight=None, penalty=l1, score=0.8358288770053476, total=   0.0s\n",
      "[CV] C=222.23, class_weight=None, penalty=l1 .........................\n",
      "[CV]  C=222.23, class_weight=None, penalty=l1, score=0.8718294657312465, total=   0.0s\n",
      "[CV] C=222.23, class_weight=None, penalty=l2 .........................\n",
      "[CV]  C=222.23, class_weight=None, penalty=l2, score=0.8484189723320158, total=   0.0s\n",
      "[CV] C=222.23, class_weight=None, penalty=l2 .........................\n",
      "[CV]  C=222.23, class_weight=None, penalty=l2, score=0.8327404479578392, total=   0.0s\n",
      "[CV] C=222.23, class_weight=None, penalty=l2 .........................\n",
      "[CV]  C=222.23, class_weight=None, penalty=l2, score=0.8584224598930481, total=   0.0s\n",
      "[CV] C=222.23, class_weight=None, penalty=l2 .........................\n",
      "[CV]  C=222.23, class_weight=None, penalty=l2, score=0.8359625668449198, total=   0.0s\n",
      "[CV] C=222.23, class_weight=None, penalty=l2 .........................\n",
      "[CV]  C=222.23, class_weight=None, penalty=l2, score=0.8718294657312465, total=   0.0s\n",
      "[CV] C=333.34, class_weight=balanced, penalty=l1 .....................\n",
      "[CV]  C=333.34, class_weight=balanced, penalty=l1, score=0.8482872200263505, total=   0.0s\n",
      "[CV] C=333.34, class_weight=balanced, penalty=l1 .....................\n",
      "[CV]  C=333.34, class_weight=balanced, penalty=l1, score=0.8327404479578393, total=   0.0s\n",
      "[CV] C=333.34, class_weight=balanced, penalty=l1 .....................\n",
      "[CV]  C=333.34, class_weight=balanced, penalty=l1, score=0.8566844919786096, total=   0.0s\n",
      "[CV] C=333.34, class_weight=balanced, penalty=l1 .....................\n"
     ]
    },
    {
     "name": "stdout",
     "output_type": "stream",
     "text": [
      "[CV]  C=333.34, class_weight=balanced, penalty=l1, score=0.8330213903743315, total=   0.0s\n",
      "[CV] C=333.34, class_weight=balanced, penalty=l1 .....................\n",
      "[CV]  C=333.34, class_weight=balanced, penalty=l1, score=0.8720992984349704, total=   0.0s\n",
      "[CV] C=333.34, class_weight=balanced, penalty=l2 .....................\n",
      "[CV]  C=333.34, class_weight=balanced, penalty=l2, score=0.8482872200263505, total=   0.0s\n",
      "[CV] C=333.34, class_weight=balanced, penalty=l2 .....................\n",
      "[CV]  C=333.34, class_weight=balanced, penalty=l2, score=0.8327404479578393, total=   0.0s\n",
      "[CV] C=333.34, class_weight=balanced, penalty=l2 .....................\n",
      "[CV]  C=333.34, class_weight=balanced, penalty=l2, score=0.8566844919786096, total=   0.0s\n",
      "[CV] C=333.34, class_weight=balanced, penalty=l2 .....................\n",
      "[CV]  C=333.34, class_weight=balanced, penalty=l2, score=0.8334224598930481, total=   0.0s\n",
      "[CV] C=333.34, class_weight=balanced, penalty=l2 .....................\n",
      "[CV]  C=333.34, class_weight=balanced, penalty=l2, score=0.8720992984349704, total=   0.0s\n",
      "[CV] C=333.34, class_weight=None, penalty=l1 .........................\n",
      "[CV]  C=333.34, class_weight=None, penalty=l1, score=0.8482872200263504, total=   0.0s\n",
      "[CV] C=333.34, class_weight=None, penalty=l1 .........................\n",
      "[CV]  C=333.34, class_weight=None, penalty=l1, score=0.8327404479578392, total=   0.0s\n",
      "[CV] C=333.34, class_weight=None, penalty=l1 .........................\n",
      "[CV]  C=333.34, class_weight=None, penalty=l1, score=0.8584224598930481, total=   0.0s\n",
      "[CV] C=333.34, class_weight=None, penalty=l1 .........................\n",
      "[CV]  C=333.34, class_weight=None, penalty=l1, score=0.8359625668449198, total=   0.0s\n",
      "[CV] C=333.34, class_weight=None, penalty=l1 .........................\n",
      "[CV]  C=333.34, class_weight=None, penalty=l1, score=0.8718294657312465, total=   0.0s\n",
      "[CV] C=333.34, class_weight=None, penalty=l2 .........................\n",
      "[CV]  C=333.34, class_weight=None, penalty=l2, score=0.8485507246376811, total=   0.0s\n",
      "[CV] C=333.34, class_weight=None, penalty=l2 .........................\n",
      "[CV]  C=333.34, class_weight=None, penalty=l2, score=0.8327404479578392, total=   0.0s\n",
      "[CV] C=333.34, class_weight=None, penalty=l2 .........................\n",
      "[CV]  C=333.34, class_weight=None, penalty=l2, score=0.8584224598930481, total=   0.0s\n",
      "[CV] C=333.34, class_weight=None, penalty=l2 .........................\n",
      "[CV]  C=333.34, class_weight=None, penalty=l2, score=0.8359625668449198, total=   0.0s\n",
      "[CV] C=333.34, class_weight=None, penalty=l2 .........................\n",
      "[CV]  C=333.34, class_weight=None, penalty=l2, score=0.8718294657312465, total=   0.0s\n",
      "[CV] C=444.45, class_weight=balanced, penalty=l1 .....................\n",
      "[CV]  C=444.45, class_weight=balanced, penalty=l1, score=0.8482872200263505, total=   0.0s\n",
      "[CV] C=444.45, class_weight=balanced, penalty=l1 .....................\n",
      "[CV]  C=444.45, class_weight=balanced, penalty=l1, score=0.8327404479578393, total=   0.0s\n",
      "[CV] C=444.45, class_weight=balanced, penalty=l1 .....................\n",
      "[CV]  C=444.45, class_weight=balanced, penalty=l1, score=0.8566844919786096, total=   0.0s\n",
      "[CV] C=444.45, class_weight=balanced, penalty=l1 .....................\n",
      "[CV]  C=444.45, class_weight=balanced, penalty=l1, score=0.8330213903743315, total=   0.0s\n",
      "[CV] C=444.45, class_weight=balanced, penalty=l1 .....................\n",
      "[CV]  C=444.45, class_weight=balanced, penalty=l1, score=0.8720992984349704, total=   0.0s\n",
      "[CV] C=444.45, class_weight=balanced, penalty=l2 .....................\n",
      "[CV]  C=444.45, class_weight=balanced, penalty=l2, score=0.8482872200263505, total=   0.0s\n",
      "[CV] C=444.45, class_weight=balanced, penalty=l2 .....................\n",
      "[CV]  C=444.45, class_weight=balanced, penalty=l2, score=0.8327404479578393, total=   0.0s\n",
      "[CV] C=444.45, class_weight=balanced, penalty=l2 .....................\n",
      "[CV]  C=444.45, class_weight=balanced, penalty=l2, score=0.8568181818181818, total=   0.0s\n",
      "[CV] C=444.45, class_weight=balanced, penalty=l2 .....................\n",
      "[CV]  C=444.45, class_weight=balanced, penalty=l2, score=0.8330213903743315, total=   0.0s\n",
      "[CV] C=444.45, class_weight=balanced, penalty=l2 .....................\n",
      "[CV]  C=444.45, class_weight=balanced, penalty=l2, score=0.8720992984349704, total=   0.0s\n",
      "[CV] C=444.45, class_weight=None, penalty=l1 .........................\n",
      "[CV]  C=444.45, class_weight=None, penalty=l1, score=0.8482872200263504, total=   0.0s\n",
      "[CV] C=444.45, class_weight=None, penalty=l1 .........................\n",
      "[CV]  C=444.45, class_weight=None, penalty=l1, score=0.8327404479578392, total=   0.0s\n",
      "[CV] C=444.45, class_weight=None, penalty=l1 .........................\n",
      "[CV]  C=444.45, class_weight=None, penalty=l1, score=0.8584224598930481, total=   0.0s\n",
      "[CV] C=444.45, class_weight=None, penalty=l1 .........................\n",
      "[CV]  C=444.45, class_weight=None, penalty=l1, score=0.8358288770053476, total=   0.0s\n",
      "[CV] C=444.45, class_weight=None, penalty=l1 .........................\n",
      "[CV]  C=444.45, class_weight=None, penalty=l1, score=0.8718294657312465, total=   0.0s\n",
      "[CV] C=444.45, class_weight=None, penalty=l2 .........................\n",
      "[CV]  C=444.45, class_weight=None, penalty=l2, score=0.8485507246376811, total=   0.0s\n",
      "[CV] C=444.45, class_weight=None, penalty=l2 .........................\n",
      "[CV]  C=444.45, class_weight=None, penalty=l2, score=0.8327404479578392, total=   0.0s\n",
      "[CV] C=444.45, class_weight=None, penalty=l2 .........................\n",
      "[CV]  C=444.45, class_weight=None, penalty=l2, score=0.8584224598930481, total=   0.0s\n",
      "[CV] C=444.45, class_weight=None, penalty=l2 .........................\n",
      "[CV]  C=444.45, class_weight=None, penalty=l2, score=0.8359625668449198, total=   0.0s\n",
      "[CV] C=444.45, class_weight=None, penalty=l2 .........................\n",
      "[CV]  C=444.45, class_weight=None, penalty=l2, score=0.8718294657312465, total=   0.0s\n",
      "[CV] C=555.56, class_weight=balanced, penalty=l1 .....................\n",
      "[CV]  C=555.56, class_weight=balanced, penalty=l1, score=0.8482872200263505, total=   0.0s\n",
      "[CV] C=555.56, class_weight=balanced, penalty=l1 .....................\n",
      "[CV]  C=555.56, class_weight=balanced, penalty=l1, score=0.8327404479578393, total=   0.0s\n",
      "[CV] C=555.56, class_weight=balanced, penalty=l1 .....................\n",
      "[CV]  C=555.56, class_weight=balanced, penalty=l1, score=0.8566844919786096, total=   0.0s\n",
      "[CV] C=555.56, class_weight=balanced, penalty=l1 .....................\n",
      "[CV]  C=555.56, class_weight=balanced, penalty=l1, score=0.8330213903743315, total=   0.0s\n",
      "[CV] C=555.56, class_weight=balanced, penalty=l1 .....................\n",
      "[CV]  C=555.56, class_weight=balanced, penalty=l1, score=0.8720992984349704, total=   0.0s\n",
      "[CV] C=555.56, class_weight=balanced, penalty=l2 .....................\n",
      "[CV]  C=555.56, class_weight=balanced, penalty=l2, score=0.8482872200263505, total=   0.0s\n",
      "[CV] C=555.56, class_weight=balanced, penalty=l2 .....................\n",
      "[CV]  C=555.56, class_weight=balanced, penalty=l2, score=0.8327404479578393, total=   0.0s\n",
      "[CV] C=555.56, class_weight=balanced, penalty=l2 .....................\n",
      "[CV]  C=555.56, class_weight=balanced, penalty=l2, score=0.8566844919786096, total=   0.0s\n",
      "[CV] C=555.56, class_weight=balanced, penalty=l2 .....................\n",
      "[CV]  C=555.56, class_weight=balanced, penalty=l2, score=0.8330213903743315, total=   0.0s\n",
      "[CV] C=555.56, class_weight=balanced, penalty=l2 .....................\n",
      "[CV]  C=555.56, class_weight=balanced, penalty=l2, score=0.8720992984349704, total=   0.0s\n",
      "[CV] C=555.56, class_weight=None, penalty=l1 .........................\n",
      "[CV]  C=555.56, class_weight=None, penalty=l1, score=0.8482872200263504, total=   0.0s\n",
      "[CV] C=555.56, class_weight=None, penalty=l1 .........................\n",
      "[CV]  C=555.56, class_weight=None, penalty=l1, score=0.8327404479578392, total=   0.0s\n",
      "[CV] C=555.56, class_weight=None, penalty=l1 .........................\n",
      "[CV]  C=555.56, class_weight=None, penalty=l1, score=0.8584224598930481, total=   0.0s\n",
      "[CV] C=555.56, class_weight=None, penalty=l1 .........................\n",
      "[CV]  C=555.56, class_weight=None, penalty=l1, score=0.8359625668449198, total=   0.0s\n",
      "[CV] C=555.56, class_weight=None, penalty=l1 .........................\n",
      "[CV]  C=555.56, class_weight=None, penalty=l1, score=0.8718294657312465, total=   0.0s\n",
      "[CV] C=555.56, class_weight=None, penalty=l2 .........................\n"
     ]
    },
    {
     "name": "stdout",
     "output_type": "stream",
     "text": [
      "[CV]  C=555.56, class_weight=None, penalty=l2, score=0.8485507246376811, total=   0.0s\n",
      "[CV] C=555.56, class_weight=None, penalty=l2 .........................\n",
      "[CV]  C=555.56, class_weight=None, penalty=l2, score=0.8327404479578392, total=   0.0s\n",
      "[CV] C=555.56, class_weight=None, penalty=l2 .........................\n",
      "[CV]  C=555.56, class_weight=None, penalty=l2, score=0.8584224598930481, total=   0.0s\n",
      "[CV] C=555.56, class_weight=None, penalty=l2 .........................\n",
      "[CV]  C=555.56, class_weight=None, penalty=l2, score=0.8359625668449198, total=   0.0s\n",
      "[CV] C=555.56, class_weight=None, penalty=l2 .........................\n",
      "[CV]  C=555.56, class_weight=None, penalty=l2, score=0.8718294657312465, total=   0.0s\n",
      "[CV] C=666.67, class_weight=balanced, penalty=l1 .....................\n",
      "[CV]  C=666.67, class_weight=balanced, penalty=l1, score=0.8482872200263505, total=   0.0s\n",
      "[CV] C=666.67, class_weight=balanced, penalty=l1 .....................\n",
      "[CV]  C=666.67, class_weight=balanced, penalty=l1, score=0.8327404479578393, total=   0.0s\n",
      "[CV] C=666.67, class_weight=balanced, penalty=l1 .....................\n",
      "[CV]  C=666.67, class_weight=balanced, penalty=l1, score=0.8565508021390374, total=   0.0s\n",
      "[CV] C=666.67, class_weight=balanced, penalty=l1 .....................\n",
      "[CV]  C=666.67, class_weight=balanced, penalty=l1, score=0.8330213903743315, total=   0.0s\n",
      "[CV] C=666.67, class_weight=balanced, penalty=l1 .....................\n",
      "[CV]  C=666.67, class_weight=balanced, penalty=l1, score=0.8720992984349704, total=   0.0s\n",
      "[CV] C=666.67, class_weight=balanced, penalty=l2 .....................\n",
      "[CV]  C=666.67, class_weight=balanced, penalty=l2, score=0.8482872200263505, total=   0.0s\n",
      "[CV] C=666.67, class_weight=balanced, penalty=l2 .....................\n",
      "[CV]  C=666.67, class_weight=balanced, penalty=l2, score=0.8327404479578393, total=   0.0s\n",
      "[CV] C=666.67, class_weight=balanced, penalty=l2 .....................\n",
      "[CV]  C=666.67, class_weight=balanced, penalty=l2, score=0.8566844919786096, total=   0.0s\n",
      "[CV] C=666.67, class_weight=balanced, penalty=l2 .....................\n",
      "[CV]  C=666.67, class_weight=balanced, penalty=l2, score=0.8330213903743315, total=   0.0s\n",
      "[CV] C=666.67, class_weight=balanced, penalty=l2 .....................\n",
      "[CV]  C=666.67, class_weight=balanced, penalty=l2, score=0.8720992984349704, total=   0.0s\n",
      "[CV] C=666.67, class_weight=None, penalty=l1 .........................\n",
      "[CV]  C=666.67, class_weight=None, penalty=l1, score=0.8485507246376811, total=   0.0s\n",
      "[CV] C=666.67, class_weight=None, penalty=l1 .........................\n",
      "[CV]  C=666.67, class_weight=None, penalty=l1, score=0.8330039525691699, total=   0.0s\n",
      "[CV] C=666.67, class_weight=None, penalty=l1 .........................\n",
      "[CV]  C=666.67, class_weight=None, penalty=l1, score=0.8584224598930481, total=   0.0s\n",
      "[CV] C=666.67, class_weight=None, penalty=l1 .........................\n",
      "[CV]  C=666.67, class_weight=None, penalty=l1, score=0.8358288770053476, total=   0.0s\n",
      "[CV] C=666.67, class_weight=None, penalty=l1 .........................\n",
      "[CV]  C=666.67, class_weight=None, penalty=l1, score=0.8718294657312465, total=   0.0s\n",
      "[CV] C=666.67, class_weight=None, penalty=l2 .........................\n",
      "[CV]  C=666.67, class_weight=None, penalty=l2, score=0.8485507246376811, total=   0.0s\n",
      "[CV] C=666.67, class_weight=None, penalty=l2 .........................\n",
      "[CV]  C=666.67, class_weight=None, penalty=l2, score=0.8327404479578392, total=   0.0s\n",
      "[CV] C=666.67, class_weight=None, penalty=l2 .........................\n",
      "[CV]  C=666.67, class_weight=None, penalty=l2, score=0.8584224598930481, total=   0.0s\n",
      "[CV] C=666.67, class_weight=None, penalty=l2 .........................\n",
      "[CV]  C=666.67, class_weight=None, penalty=l2, score=0.8359625668449198, total=   0.0s\n",
      "[CV] C=666.67, class_weight=None, penalty=l2 .........................\n",
      "[CV]  C=666.67, class_weight=None, penalty=l2, score=0.8718294657312465, total=   0.0s\n",
      "[CV] C=777.78, class_weight=balanced, penalty=l1 .....................\n",
      "[CV]  C=777.78, class_weight=balanced, penalty=l1, score=0.8482872200263505, total=   0.0s\n",
      "[CV] C=777.78, class_weight=balanced, penalty=l1 .....................\n",
      "[CV]  C=777.78, class_weight=balanced, penalty=l1, score=0.8327404479578393, total=   0.0s\n",
      "[CV] C=777.78, class_weight=balanced, penalty=l1 .....................\n",
      "[CV]  C=777.78, class_weight=balanced, penalty=l1, score=0.8565508021390374, total=   0.0s\n",
      "[CV] C=777.78, class_weight=balanced, penalty=l1 .....................\n",
      "[CV]  C=777.78, class_weight=balanced, penalty=l1, score=0.8330213903743315, total=   0.0s\n",
      "[CV] C=777.78, class_weight=balanced, penalty=l1 .....................\n",
      "[CV]  C=777.78, class_weight=balanced, penalty=l1, score=0.8720992984349704, total=   0.0s\n",
      "[CV] C=777.78, class_weight=balanced, penalty=l2 .....................\n",
      "[CV]  C=777.78, class_weight=balanced, penalty=l2, score=0.8482872200263505, total=   0.0s\n",
      "[CV] C=777.78, class_weight=balanced, penalty=l2 .....................\n",
      "[CV]  C=777.78, class_weight=balanced, penalty=l2, score=0.8327404479578393, total=   0.0s\n",
      "[CV] C=777.78, class_weight=balanced, penalty=l2 .....................\n",
      "[CV]  C=777.78, class_weight=balanced, penalty=l2, score=0.8566844919786096, total=   0.0s\n",
      "[CV] C=777.78, class_weight=balanced, penalty=l2 .....................\n",
      "[CV]  C=777.78, class_weight=balanced, penalty=l2, score=0.8330213903743315, total=   0.0s\n",
      "[CV] C=777.78, class_weight=balanced, penalty=l2 .....................\n",
      "[CV]  C=777.78, class_weight=balanced, penalty=l2, score=0.8720992984349704, total=   0.0s\n",
      "[CV] C=777.78, class_weight=None, penalty=l1 .........................\n",
      "[CV]  C=777.78, class_weight=None, penalty=l1, score=0.8485507246376811, total=   0.0s\n",
      "[CV] C=777.78, class_weight=None, penalty=l1 .........................\n",
      "[CV]  C=777.78, class_weight=None, penalty=l1, score=0.83300395256917, total=   0.0s\n",
      "[CV] C=777.78, class_weight=None, penalty=l1 .........................\n",
      "[CV]  C=777.78, class_weight=None, penalty=l1, score=0.8584224598930481, total=   0.0s\n",
      "[CV] C=777.78, class_weight=None, penalty=l1 .........................\n",
      "[CV]  C=777.78, class_weight=None, penalty=l1, score=0.8358288770053476, total=   0.0s\n",
      "[CV] C=777.78, class_weight=None, penalty=l1 .........................\n",
      "[CV]  C=777.78, class_weight=None, penalty=l1, score=0.8718294657312465, total=   0.0s\n",
      "[CV] C=777.78, class_weight=None, penalty=l2 .........................\n",
      "[CV]  C=777.78, class_weight=None, penalty=l2, score=0.8485507246376811, total=   0.0s\n",
      "[CV] C=777.78, class_weight=None, penalty=l2 .........................\n",
      "[CV]  C=777.78, class_weight=None, penalty=l2, score=0.8327404479578392, total=   0.0s\n",
      "[CV] C=777.78, class_weight=None, penalty=l2 .........................\n",
      "[CV]  C=777.78, class_weight=None, penalty=l2, score=0.8584224598930481, total=   0.0s\n",
      "[CV] C=777.78, class_weight=None, penalty=l2 .........................\n",
      "[CV]  C=777.78, class_weight=None, penalty=l2, score=0.8359625668449198, total=   0.0s\n",
      "[CV] C=777.78, class_weight=None, penalty=l2 .........................\n",
      "[CV]  C=777.78, class_weight=None, penalty=l2, score=0.8718294657312465, total=   0.0s\n",
      "[CV] C=888.89, class_weight=balanced, penalty=l1 .....................\n",
      "[CV]  C=888.89, class_weight=balanced, penalty=l1, score=0.8482872200263505, total=   0.0s\n",
      "[CV] C=888.89, class_weight=balanced, penalty=l1 .....................\n",
      "[CV]  C=888.89, class_weight=balanced, penalty=l1, score=0.8327404479578393, total=   0.0s\n",
      "[CV] C=888.89, class_weight=balanced, penalty=l1 .....................\n",
      "[CV]  C=888.89, class_weight=balanced, penalty=l1, score=0.8565508021390374, total=   0.0s\n",
      "[CV] C=888.89, class_weight=balanced, penalty=l1 .....................\n",
      "[CV]  C=888.89, class_weight=balanced, penalty=l1, score=0.8330213903743315, total=   0.0s\n",
      "[CV] C=888.89, class_weight=balanced, penalty=l1 .....................\n",
      "[CV]  C=888.89, class_weight=balanced, penalty=l1, score=0.8720992984349704, total=   0.0s\n",
      "[CV] C=888.89, class_weight=balanced, penalty=l2 .....................\n",
      "[CV]  C=888.89, class_weight=balanced, penalty=l2, score=0.8482872200263505, total=   0.0s\n",
      "[CV] C=888.89, class_weight=balanced, penalty=l2 .....................\n",
      "[CV]  C=888.89, class_weight=balanced, penalty=l2, score=0.8327404479578393, total=   0.0s\n",
      "[CV] C=888.89, class_weight=balanced, penalty=l2 .....................\n",
      "[CV]  C=888.89, class_weight=balanced, penalty=l2, score=0.8566844919786096, total=   0.0s\n",
      "[CV] C=888.89, class_weight=balanced, penalty=l2 .....................\n",
      "[CV]  C=888.89, class_weight=balanced, penalty=l2, score=0.8330213903743315, total=   0.0s\n",
      "[CV] C=888.89, class_weight=balanced, penalty=l2 .....................\n",
      "[CV]  C=888.89, class_weight=balanced, penalty=l2, score=0.8720992984349704, total=   0.0s\n",
      "[CV] C=888.89, class_weight=None, penalty=l1 .........................\n"
     ]
    },
    {
     "name": "stdout",
     "output_type": "stream",
     "text": [
      "[CV]  C=888.89, class_weight=None, penalty=l1, score=0.8485507246376811, total=   0.0s\n",
      "[CV] C=888.89, class_weight=None, penalty=l1 .........................\n",
      "[CV]  C=888.89, class_weight=None, penalty=l1, score=0.8327404479578392, total=   0.0s\n",
      "[CV] C=888.89, class_weight=None, penalty=l1 .........................\n",
      "[CV]  C=888.89, class_weight=None, penalty=l1, score=0.8584224598930481, total=   0.0s\n",
      "[CV] C=888.89, class_weight=None, penalty=l1 .........................\n",
      "[CV]  C=888.89, class_weight=None, penalty=l1, score=0.8359625668449198, total=   0.0s\n",
      "[CV] C=888.89, class_weight=None, penalty=l1 .........................\n",
      "[CV]  C=888.89, class_weight=None, penalty=l1, score=0.8718294657312465, total=   0.0s\n",
      "[CV] C=888.89, class_weight=None, penalty=l2 .........................\n",
      "[CV]  C=888.89, class_weight=None, penalty=l2, score=0.8485507246376811, total=   0.0s\n",
      "[CV] C=888.89, class_weight=None, penalty=l2 .........................\n",
      "[CV]  C=888.89, class_weight=None, penalty=l2, score=0.8327404479578392, total=   0.0s\n",
      "[CV] C=888.89, class_weight=None, penalty=l2 .........................\n",
      "[CV]  C=888.89, class_weight=None, penalty=l2, score=0.8584224598930481, total=   0.0s\n",
      "[CV] C=888.89, class_weight=None, penalty=l2 .........................\n",
      "[CV]  C=888.89, class_weight=None, penalty=l2, score=0.8359625668449198, total=   0.0s\n",
      "[CV] C=888.89, class_weight=None, penalty=l2 .........................\n",
      "[CV]  C=888.89, class_weight=None, penalty=l2, score=0.8718294657312465, total=   0.0s\n",
      "[CV] C=1000.0, class_weight=balanced, penalty=l1 .....................\n",
      "[CV]  C=1000.0, class_weight=balanced, penalty=l1, score=0.8482872200263505, total=   0.0s\n",
      "[CV] C=1000.0, class_weight=balanced, penalty=l1 .....................\n",
      "[CV]  C=1000.0, class_weight=balanced, penalty=l1, score=0.8327404479578393, total=   0.0s\n",
      "[CV] C=1000.0, class_weight=balanced, penalty=l1 .....................\n",
      "[CV]  C=1000.0, class_weight=balanced, penalty=l1, score=0.8565508021390374, total=   0.0s\n",
      "[CV] C=1000.0, class_weight=balanced, penalty=l1 .....................\n",
      "[CV]  C=1000.0, class_weight=balanced, penalty=l1, score=0.8330213903743315, total=   0.0s\n",
      "[CV] C=1000.0, class_weight=balanced, penalty=l1 .....................\n",
      "[CV]  C=1000.0, class_weight=balanced, penalty=l1, score=0.8720992984349704, total=   0.0s\n",
      "[CV] C=1000.0, class_weight=balanced, penalty=l2 .....................\n",
      "[CV]  C=1000.0, class_weight=balanced, penalty=l2, score=0.8482872200263505, total=   0.0s\n",
      "[CV] C=1000.0, class_weight=balanced, penalty=l2 .....................\n",
      "[CV]  C=1000.0, class_weight=balanced, penalty=l2, score=0.8327404479578393, total=   0.0s\n",
      "[CV] C=1000.0, class_weight=balanced, penalty=l2 .....................\n",
      "[CV]  C=1000.0, class_weight=balanced, penalty=l2, score=0.8566844919786096, total=   0.0s\n",
      "[CV] C=1000.0, class_weight=balanced, penalty=l2 .....................\n",
      "[CV]  C=1000.0, class_weight=balanced, penalty=l2, score=0.8330213903743315, total=   0.0s\n",
      "[CV] C=1000.0, class_weight=balanced, penalty=l2 .....................\n",
      "[CV]  C=1000.0, class_weight=balanced, penalty=l2, score=0.8720992984349704, total=   0.0s\n",
      "[CV] C=1000.0, class_weight=None, penalty=l1 .........................\n",
      "[CV]  C=1000.0, class_weight=None, penalty=l1, score=0.8482872200263504, total=   0.0s\n",
      "[CV] C=1000.0, class_weight=None, penalty=l1 .........................\n",
      "[CV]  C=1000.0, class_weight=None, penalty=l1, score=0.8327404479578392, total=   0.0s\n",
      "[CV] C=1000.0, class_weight=None, penalty=l1 .........................\n",
      "[CV]  C=1000.0, class_weight=None, penalty=l1, score=0.8584224598930481, total=   0.0s\n",
      "[CV] C=1000.0, class_weight=None, penalty=l1 .........................\n",
      "[CV]  C=1000.0, class_weight=None, penalty=l1, score=0.8359625668449198, total=   0.0s\n",
      "[CV] C=1000.0, class_weight=None, penalty=l1 .........................\n",
      "[CV]  C=1000.0, class_weight=None, penalty=l1, score=0.8718294657312465, total=   0.0s\n",
      "[CV] C=1000.0, class_weight=None, penalty=l2 .........................\n",
      "[CV]  C=1000.0, class_weight=None, penalty=l2, score=0.8485507246376811, total=   0.0s\n",
      "[CV] C=1000.0, class_weight=None, penalty=l2 .........................\n",
      "[CV]  C=1000.0, class_weight=None, penalty=l2, score=0.8327404479578392, total=   0.0s\n",
      "[CV] C=1000.0, class_weight=None, penalty=l2 .........................\n",
      "[CV]  C=1000.0, class_weight=None, penalty=l2, score=0.8584224598930481, total=   0.0s\n",
      "[CV] C=1000.0, class_weight=None, penalty=l2 .........................\n",
      "[CV]  C=1000.0, class_weight=None, penalty=l2, score=0.8359625668449198, total=   0.0s\n",
      "[CV] C=1000.0, class_weight=None, penalty=l2 .........................\n",
      "[CV]  C=1000.0, class_weight=None, penalty=l2, score=0.8718294657312465, total=   0.0s\n"
     ]
    },
    {
     "name": "stderr",
     "output_type": "stream",
     "text": [
      "[Parallel(n_jobs=1)]: Done 200 out of 200 | elapsed:    3.6s finished\n"
     ]
    },
    {
     "data": {
      "text/plain": [
       "GridSearchCV(cv=5, error_score='raise',\n",
       "       estimator=LogisticRegression(C=1.0, class_weight=None, dual=False, fit_intercept=True,\n",
       "          intercept_scaling=1, max_iter=100, multi_class='ovr', n_jobs=1,\n",
       "          penalty='l2', random_state=None, solver='liblinear', tol=0.0001,\n",
       "          verbose=0, warm_start=False),\n",
       "       fit_params=None, iid=True, n_jobs=1,\n",
       "       param_grid={'class_weight': ['balanced', None], 'penalty': ['l1', 'l2'], 'C': array([1.0000e-02, 1.1112e+02, 2.2223e+02, 3.3334e+02, 4.4445e+02,\n",
       "       5.5556e+02, 6.6667e+02, 7.7778e+02, 8.8889e+02, 1.0000e+03])},\n",
       "       pre_dispatch='2*n_jobs', refit=True, return_train_score='warn',\n",
       "       scoring='roc_auc', verbose=4)"
      ]
     },
     "execution_count": 530,
     "metadata": {},
     "output_type": "execute_result"
    }
   ],
   "source": [
    "grid_search.fit(x_train,y_train)"
   ]
  },
  {
   "cell_type": "code",
   "execution_count": 531,
   "metadata": {},
   "outputs": [
    {
     "data": {
      "text/plain": [
       "LogisticRegression(C=666.67, class_weight=None, dual=False,\n",
       "          fit_intercept=True, intercept_scaling=1, max_iter=100,\n",
       "          multi_class='ovr', n_jobs=1, penalty='l1', random_state=None,\n",
       "          solver='liblinear', tol=0.0001, verbose=0, warm_start=False)"
      ]
     },
     "execution_count": 531,
     "metadata": {},
     "output_type": "execute_result"
    }
   ],
   "source": [
    "grid_search.best_estimator_"
   ]
  },
  {
   "cell_type": "code",
   "execution_count": 532,
   "metadata": {},
   "outputs": [],
   "source": [
    "logr=grid_search.best_estimator_\n"
   ]
  },
  {
   "cell_type": "code",
   "execution_count": 534,
   "metadata": {},
   "outputs": [],
   "source": [
    "def report(results, n_top=3):\n",
    "    for i in range(1, n_top + 1):\n",
    "        candidates = np.flatnonzero(results['rank_test_score'] == i)\n",
    "        for candidate in candidates:\n",
    "            print(\"Model with rank: {0}\".format(i))\n",
    "            print(\"Mean validation score: {0:.3f} (std: {1:.3f})\".format(\n",
    "                  results['mean_test_score'][candidate],\n",
    "                  results['std_test_score'][candidate]))\n",
    "            print(\"Parameters: {0}\".format(results['params'][candidate]))\n",
    "            print(\"\")"
   ]
  },
  {
   "cell_type": "code",
   "execution_count": 535,
   "metadata": {},
   "outputs": [
    {
     "name": "stdout",
     "output_type": "stream",
     "text": [
      "Model with rank: 1\n",
      "Mean validation score: 0.849 (std: 0.014)\n",
      "Parameters: {'C': 666.67, 'class_weight': None, 'penalty': 'l1'}\n",
      "\n",
      "Model with rank: 1\n",
      "Mean validation score: 0.849 (std: 0.014)\n",
      "Parameters: {'C': 777.78, 'class_weight': None, 'penalty': 'l1'}\n",
      "\n",
      "Model with rank: 3\n",
      "Mean validation score: 0.849 (std: 0.014)\n",
      "Parameters: {'C': 333.34, 'class_weight': None, 'penalty': 'l2'}\n",
      "\n",
      "Model with rank: 3\n",
      "Mean validation score: 0.849 (std: 0.014)\n",
      "Parameters: {'C': 444.45, 'class_weight': None, 'penalty': 'l2'}\n",
      "\n",
      "Model with rank: 3\n",
      "Mean validation score: 0.849 (std: 0.014)\n",
      "Parameters: {'C': 555.56, 'class_weight': None, 'penalty': 'l2'}\n",
      "\n",
      "Model with rank: 3\n",
      "Mean validation score: 0.849 (std: 0.014)\n",
      "Parameters: {'C': 666.67, 'class_weight': None, 'penalty': 'l2'}\n",
      "\n",
      "Model with rank: 3\n",
      "Mean validation score: 0.849 (std: 0.014)\n",
      "Parameters: {'C': 777.78, 'class_weight': None, 'penalty': 'l2'}\n",
      "\n",
      "Model with rank: 3\n",
      "Mean validation score: 0.849 (std: 0.014)\n",
      "Parameters: {'C': 888.89, 'class_weight': None, 'penalty': 'l1'}\n",
      "\n",
      "Model with rank: 3\n",
      "Mean validation score: 0.849 (std: 0.014)\n",
      "Parameters: {'C': 888.89, 'class_weight': None, 'penalty': 'l2'}\n",
      "\n",
      "Model with rank: 3\n",
      "Mean validation score: 0.849 (std: 0.014)\n",
      "Parameters: {'C': 1000.0, 'class_weight': None, 'penalty': 'l2'}\n",
      "\n"
     ]
    }
   ],
   "source": [
    "report(grid_search.cv_results_,5)"
   ]
  },
  {
   "cell_type": "code",
   "execution_count": 536,
   "metadata": {},
   "outputs": [
    {
     "data": {
      "text/plain": [
       "LogisticRegression(C=666.67, class_weight=None, dual=False,\n",
       "          fit_intercept=True, intercept_scaling=1, max_iter=100,\n",
       "          multi_class='ovr', n_jobs=1, penalty='l1', random_state=None,\n",
       "          solver='liblinear', tol=0.0001, verbose=0, warm_start=False)"
      ]
     },
     "execution_count": 536,
     "metadata": {},
     "output_type": "execute_result"
    }
   ],
   "source": [
    "logr.fit(x_train,y_train)"
   ]
  },
  {
   "cell_type": "code",
   "execution_count": 537,
   "metadata": {},
   "outputs": [
    {
     "data": {
      "text/plain": [
       "array([0.01, 0.02, 0.03, 0.04, 0.05, 0.06, 0.07, 0.08, 0.09, 0.1 , 0.11,\n",
       "       0.12, 0.13, 0.14, 0.15, 0.16, 0.17, 0.18, 0.19, 0.2 , 0.21, 0.22,\n",
       "       0.23, 0.24, 0.25, 0.26, 0.27, 0.28, 0.29, 0.3 , 0.31, 0.32, 0.33,\n",
       "       0.34, 0.35, 0.36, 0.37, 0.38, 0.39, 0.4 , 0.41, 0.42, 0.43, 0.44,\n",
       "       0.45, 0.46, 0.47, 0.48, 0.49, 0.5 , 0.51, 0.52, 0.53, 0.54, 0.55,\n",
       "       0.56, 0.57, 0.58, 0.59, 0.6 , 0.61, 0.62, 0.63, 0.64, 0.65, 0.66,\n",
       "       0.67, 0.68, 0.69, 0.7 , 0.71, 0.72, 0.73, 0.74, 0.75, 0.76, 0.77,\n",
       "       0.78, 0.79, 0.8 , 0.81, 0.82, 0.83, 0.84, 0.85, 0.86, 0.87, 0.88,\n",
       "       0.89, 0.9 , 0.91, 0.92, 0.93, 0.94, 0.95, 0.96, 0.97, 0.98, 0.99])"
      ]
     },
     "execution_count": 537,
     "metadata": {},
     "output_type": "execute_result"
    }
   ],
   "source": [
    "cutoffs=np.linspace(0.01,0.99,99)\n",
    "\n",
    "cutoffs"
   ]
  },
  {
   "cell_type": "code",
   "execution_count": 538,
   "metadata": {},
   "outputs": [],
   "source": [
    "train_score=logr.predict_proba(x_train)[:,1]\n",
    "\n",
    "real=y_train"
   ]
  },
  {
   "cell_type": "code",
   "execution_count": 539,
   "metadata": {},
   "outputs": [
    {
     "data": {
      "text/plain": [
       "array([False,  True,  True,  True, False, False,  True, False,  True,\n",
       "        True,  True,  True, False, False,  True,  True, False,  True,\n",
       "        True,  True, False,  True,  True,  True,  True,  True, False,\n",
       "        True,  True, False,  True,  True,  True, False,  True,  True,\n",
       "       False, False,  True,  True,  True,  True, False,  True,  True,\n",
       "       False, False,  True, False,  True, False, False,  True,  True,\n",
       "        True,  True,  True, False,  True, False, False,  True,  True,\n",
       "       False,  True, False,  True, False,  True, False,  True,  True,\n",
       "        True, False, False, False, False, False,  True,  True, False,\n",
       "       False,  True,  True,  True,  True, False, False,  True, False,\n",
       "       False, False,  True, False, False, False,  True,  True,  True,\n",
       "       False,  True, False,  True, False, False, False,  True, False,\n",
       "       False,  True,  True,  True, False,  True,  True, False, False,\n",
       "       False,  True,  True, False, False,  True,  True,  True, False,\n",
       "       False, False,  True, False, False, False,  True,  True,  True,\n",
       "        True,  True,  True, False,  True,  True,  True,  True, False,\n",
       "        True,  True, False,  True, False, False, False,  True, False,\n",
       "       False, False,  True,  True, False, False, False, False,  True,\n",
       "       False, False, False, False,  True,  True,  True, False,  True,\n",
       "       False,  True, False,  True, False, False,  True,  True, False,\n",
       "       False,  True, False,  True,  True,  True,  True,  True, False,\n",
       "       False,  True,  True,  True,  True,  True,  True, False, False,\n",
       "        True,  True, False, False, False, False, False,  True, False,\n",
       "       False,  True,  True, False,  True, False,  True, False,  True,\n",
       "        True, False,  True,  True, False,  True, False, False,  True,\n",
       "       False,  True, False,  True,  True,  True, False, False,  True,\n",
       "        True,  True, False,  True,  True,  True,  True,  True,  True,\n",
       "       False, False,  True,  True,  True,  True, False, False,  True,\n",
       "        True, False,  True,  True,  True,  True,  True,  True, False,\n",
       "       False,  True,  True,  True, False, False, False,  True,  True,\n",
       "        True, False,  True,  True,  True,  True,  True,  True, False,\n",
       "        True, False, False, False, False,  True, False, False, False,\n",
       "       False,  True,  True,  True,  True,  True, False,  True, False,\n",
       "        True,  True,  True,  True, False, False,  True, False,  True,\n",
       "        True,  True,  True,  True,  True,  True,  True, False, False,\n",
       "        True,  True, False,  True,  True, False, False,  True,  True,\n",
       "       False,  True, False,  True,  True,  True,  True,  True,  True,\n",
       "       False,  True, False,  True,  True, False,  True,  True,  True,\n",
       "        True,  True, False,  True,  True,  True, False, False, False,\n",
       "        True, False, False, False, False,  True,  True,  True,  True,\n",
       "       False,  True,  True, False, False, False,  True,  True,  True,\n",
       "        True,  True, False, False,  True,  True,  True,  True,  True,\n",
       "       False, False,  True,  True, False,  True, False,  True, False,\n",
       "        True, False,  True,  True, False, False,  True,  True, False,\n",
       "        True, False,  True,  True, False, False,  True, False,  True,\n",
       "       False, False,  True, False,  True, False, False,  True,  True,\n",
       "       False,  True,  True,  True,  True,  True, False, False, False,\n",
       "        True, False, False,  True,  True, False, False,  True,  True,\n",
       "        True, False,  True,  True,  True,  True, False,  True,  True,\n",
       "       False, False,  True, False,  True,  True,  True,  True,  True,\n",
       "       False, False,  True,  True, False, False, False,  True,  True,\n",
       "       False,  True, False,  True, False, False, False,  True,  True,\n",
       "       False,  True, False, False,  True,  True,  True,  True, False,\n",
       "       False, False,  True, False,  True, False,  True,  True,  True,\n",
       "        True,  True, False, False, False, False,  True,  True, False,\n",
       "       False,  True, False,  True, False, False,  True,  True,  True,\n",
       "        True,  True,  True,  True, False, False, False, False,  True,\n",
       "        True, False,  True,  True, False,  True, False,  True, False,\n",
       "       False,  True, False, False,  True,  True, False, False,  True,\n",
       "       False, False,  True,  True,  True,  True,  True, False,  True,\n",
       "        True,  True,  True, False,  True, False,  True,  True, False,\n",
       "        True,  True,  True, False, False,  True,  True,  True,  True,\n",
       "        True,  True, False, False,  True, False,  True, False, False,\n",
       "        True, False, False, False,  True,  True,  True, False, False,\n",
       "        True,  True,  True, False,  True,  True, False,  True, False,\n",
       "        True, False,  True, False, False, False,  True, False,  True,\n",
       "       False, False,  True, False, False,  True,  True, False,  True,\n",
       "       False,  True, False, False,  True,  True,  True,  True, False,\n",
       "        True, False, False,  True, False,  True,  True,  True, False,\n",
       "        True, False, False, False,  True, False,  True, False, False,\n",
       "       False, False,  True,  True,  True,  True, False, False,  True,\n",
       "       False, False,  True,  True, False,  True,  True, False,  True,\n",
       "       False,  True, False,  True, False,  True,  True, False, False,\n",
       "        True,  True,  True, False, False,  True, False, False, False,\n",
       "        True, False, False,  True,  True,  True, False,  True,  True,\n",
       "       False, False,  True,  True,  True,  True,  True, False, False,\n",
       "       False,  True, False, False, False,  True,  True,  True, False,\n",
       "       False,  True, False, False,  True,  True, False,  True,  True,\n",
       "        True, False, False, False,  True,  True,  True, False,  True,\n",
       "        True,  True, False, False, False,  True,  True, False, False,\n",
       "        True, False,  True, False,  True, False,  True,  True,  True,\n",
       "        True,  True,  True,  True,  True,  True, False,  True,  True,\n",
       "       False, False,  True,  True,  True, False, False, False, False,\n",
       "        True,  True, False,  True, False, False, False,  True,  True,\n",
       "       False,  True, False,  True, False, False, False,  True, False,\n",
       "        True,  True,  True, False, False, False, False,  True, False,\n",
       "        True, False, False,  True, False,  True,  True,  True,  True,\n",
       "       False, False, False,  True, False, False,  True, False,  True,\n",
       "       False,  True, False, False,  True,  True, False,  True,  True,\n",
       "        True,  True,  True, False, False,  True,  True, False,  True,\n",
       "       False, False, False,  True, False,  True,  True,  True, False,\n",
       "       False,  True, False,  True,  True, False, False, False,  True,\n",
       "       False,  True,  True,  True, False, False, False,  True, False,\n",
       "       False, False,  True, False,  True,  True, False, False, False,\n",
       "       False, False,  True,  True, False, False,  True,  True,  True,\n",
       "        True,  True,  True,  True, False, False,  True,  True, False,\n",
       "        True,  True,  True,  True, False, False, False,  True,  True,\n",
       "       False,  True,  True, False, False, False,  True,  True, False,\n",
       "        True,  True, False,  True,  True,  True,  True,  True, False])"
      ]
     },
     "execution_count": 539,
     "metadata": {},
     "output_type": "execute_result"
    }
   ],
   "source": [
    "train_score>0.2"
   ]
  },
  {
   "cell_type": "code",
   "execution_count": 540,
   "metadata": {},
   "outputs": [],
   "source": [
    "KS_all=[]\n",
    "\n",
    "for cutoff in cutoffs:\n",
    "    \n",
    "    predicted=(train_score>cutoff).astype(int)\n",
    "\n",
    "    TP=((predicted==1) & (real==1)).sum()\n",
    "    TN=((predicted==0) & (real==0)).sum()\n",
    "    FP=((predicted==1) & (real==0)).sum()\n",
    "    FN=((predicted==0) & (real==1)).sum()\n",
    "    \n",
    "    P=TP+FN\n",
    "    N=TN+FP\n",
    "      \n",
    "    KS=(TP/P)-(FP/N)\n",
    "    \n",
    "    \n",
    "    KS_all.append(KS)\n",
    "\n",
    "# try out what cutoffs you get when you use F_beta scores with different values of betas [0.5 , 5]\n",
    "# beta < 1 : you will get cutoff , which is high ( favours precision)\n",
    "# beta > 1 : you will get cutoff , which is low (favours precision )"
   ]
  },
  {
   "cell_type": "code",
   "execution_count": 541,
   "metadata": {},
   "outputs": [
    {
     "data": {
      "text/plain": [
       "0.35000000000000003"
      ]
     },
     "execution_count": 541,
     "metadata": {},
     "output_type": "execute_result"
    }
   ],
   "source": [
    "mycutoff=cutoffs[KS_all==max(KS_all)][0]\n",
    "mycutoff"
   ]
  },
  {
   "cell_type": "code",
   "execution_count": 542,
   "metadata": {},
   "outputs": [
    {
     "data": {
      "text/plain": [
       "array([5.49458454])"
      ]
     },
     "execution_count": 542,
     "metadata": {},
     "output_type": "execute_result"
    }
   ],
   "source": [
    "logr.intercept_"
   ]
  },
  {
   "cell_type": "code",
   "execution_count": 543,
   "metadata": {},
   "outputs": [
    {
     "data": {
      "text/plain": [
       "[('Pclass', -1.1566977819716653),\n",
       " ('Age', -0.039853814415095605),\n",
       " ('SibSp', -0.31297032603643493),\n",
       " ('Parch', -0.07296677185307819),\n",
       " ('Sex_male', -2.7246912052593553),\n",
       " ('Embarked_Q', -0.06083473933361837),\n",
       " ('Embarked_S', -0.4635704001912326)]"
      ]
     },
     "execution_count": 543,
     "metadata": {},
     "output_type": "execute_result"
    }
   ],
   "source": [
    "list(zip(x_train.columns,logr.coef_[0]))"
   ]
  },
  {
   "cell_type": "code",
   "execution_count": null,
   "metadata": {},
   "outputs": [],
   "source": []
  },
  {
   "cell_type": "code",
   "execution_count": null,
   "metadata": {},
   "outputs": [],
   "source": []
  },
  {
   "cell_type": "code",
   "execution_count": null,
   "metadata": {},
   "outputs": [],
   "source": []
  }
 ],
 "metadata": {
  "kernelspec": {
   "display_name": "Python 3",
   "language": "python",
   "name": "python3"
  },
  "language_info": {
   "codemirror_mode": {
    "name": "ipython",
    "version": 3
   },
   "file_extension": ".py",
   "mimetype": "text/x-python",
   "name": "python",
   "nbconvert_exporter": "python",
   "pygments_lexer": "ipython3",
   "version": "3.6.4"
  }
 },
 "nbformat": 4,
 "nbformat_minor": 2
}
