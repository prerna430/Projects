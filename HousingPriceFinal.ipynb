{
 "cells": [
  {
   "cell_type": "code",
   "execution_count": 0,
   "metadata": {
    "colab": {},
    "colab_type": "code",
    "id": "cKREn-JIBK3f"
   },
   "outputs": [],
   "source": [
    "import pandas as pd\n",
    "import numpy as np"
   ]
  },
  {
   "cell_type": "code",
   "execution_count": 2,
   "metadata": {
    "colab": {
     "base_uri": "https://localhost:8080/",
     "height": 122
    },
    "colab_type": "code",
    "id": "d4WZOP6lBQEu",
    "outputId": "f1cf6828-c31b-4bb5-c57e-a3f06b37ab6b"
   },
   "outputs": [
    {
     "name": "stdout",
     "output_type": "stream",
     "text": [
      "Go to this URL in a browser: https://accounts.google.com/o/oauth2/auth?client_id=947318989803-6bn6qk8qdgf4n4g3pfee6491hc0brc4i.apps.googleusercontent.com&redirect_uri=urn%3aietf%3awg%3aoauth%3a2.0%3aoob&response_type=code&scope=email%20https%3a%2f%2fwww.googleapis.com%2fauth%2fdocs.test%20https%3a%2f%2fwww.googleapis.com%2fauth%2fdrive%20https%3a%2f%2fwww.googleapis.com%2fauth%2fdrive.photos.readonly%20https%3a%2f%2fwww.googleapis.com%2fauth%2fpeopleapi.readonly\n",
      "\n",
      "Enter your authorization code:\n",
      "··········\n",
      "Mounted at /content/drive\n"
     ]
    }
   ],
   "source": [
    "from google.colab import drive\n",
    "drive.mount('/content/drive')"
   ]
  },
  {
   "cell_type": "code",
   "execution_count": 0,
   "metadata": {
    "colab": {},
    "colab_type": "code",
    "id": "RhiyaAQsBeO8"
   },
   "outputs": [],
   "source": [
    "train_file= pd.read_csv(r'/content/drive/My Drive/DL/train.csv')\n",
    "test_file=pd.read_csv(r'/content/drive/My Drive/DL/test.csv')"
   ]
  },
  {
   "cell_type": "code",
   "execution_count": 60,
   "metadata": {
    "colab": {
     "base_uri": "https://localhost:8080/",
     "height": 34
    },
    "colab_type": "code",
    "id": "ceeX8xnJBihm",
    "outputId": "78660a20-ef0b-4803-adf5-69191be16db5"
   },
   "outputs": [
    {
     "data": {
      "text/plain": [
       "(1459, 80)"
      ]
     },
     "execution_count": 60,
     "metadata": {
      "tags": []
     },
     "output_type": "execute_result"
    }
   ],
   "source": [
    "test_file.shape"
   ]
  },
  {
   "cell_type": "code",
   "execution_count": 0,
   "metadata": {
    "colab": {},
    "colab_type": "code",
    "id": "4qll9Z_jBmYa"
   },
   "outputs": [],
   "source": [
    "test_file['SalePrice']=np.nan"
   ]
  },
  {
   "cell_type": "code",
   "execution_count": 8,
   "metadata": {
    "colab": {
     "base_uri": "https://localhost:8080/",
     "height": 253
    },
    "colab_type": "code",
    "id": "KpLp4FohBt6n",
    "outputId": "ee58ecdd-ee24-42ad-f74f-369bbe3c7d83"
   },
   "outputs": [
    {
     "data": {
      "text/html": [
       "<div>\n",
       "<style scoped>\n",
       "    .dataframe tbody tr th:only-of-type {\n",
       "        vertical-align: middle;\n",
       "    }\n",
       "\n",
       "    .dataframe tbody tr th {\n",
       "        vertical-align: top;\n",
       "    }\n",
       "\n",
       "    .dataframe thead th {\n",
       "        text-align: right;\n",
       "    }\n",
       "</style>\n",
       "<table border=\"1\" class=\"dataframe\">\n",
       "  <thead>\n",
       "    <tr style=\"text-align: right;\">\n",
       "      <th></th>\n",
       "      <th>Id</th>\n",
       "      <th>MSSubClass</th>\n",
       "      <th>MSZoning</th>\n",
       "      <th>LotFrontage</th>\n",
       "      <th>LotArea</th>\n",
       "      <th>Street</th>\n",
       "      <th>Alley</th>\n",
       "      <th>LotShape</th>\n",
       "      <th>LandContour</th>\n",
       "      <th>Utilities</th>\n",
       "      <th>LotConfig</th>\n",
       "      <th>LandSlope</th>\n",
       "      <th>Neighborhood</th>\n",
       "      <th>Condition1</th>\n",
       "      <th>Condition2</th>\n",
       "      <th>BldgType</th>\n",
       "      <th>HouseStyle</th>\n",
       "      <th>OverallQual</th>\n",
       "      <th>OverallCond</th>\n",
       "      <th>YearBuilt</th>\n",
       "      <th>YearRemodAdd</th>\n",
       "      <th>RoofStyle</th>\n",
       "      <th>RoofMatl</th>\n",
       "      <th>Exterior1st</th>\n",
       "      <th>Exterior2nd</th>\n",
       "      <th>MasVnrType</th>\n",
       "      <th>MasVnrArea</th>\n",
       "      <th>ExterQual</th>\n",
       "      <th>ExterCond</th>\n",
       "      <th>Foundation</th>\n",
       "      <th>BsmtQual</th>\n",
       "      <th>BsmtCond</th>\n",
       "      <th>BsmtExposure</th>\n",
       "      <th>BsmtFinType1</th>\n",
       "      <th>BsmtFinSF1</th>\n",
       "      <th>BsmtFinType2</th>\n",
       "      <th>BsmtFinSF2</th>\n",
       "      <th>BsmtUnfSF</th>\n",
       "      <th>TotalBsmtSF</th>\n",
       "      <th>Heating</th>\n",
       "      <th>...</th>\n",
       "      <th>CentralAir</th>\n",
       "      <th>Electrical</th>\n",
       "      <th>1stFlrSF</th>\n",
       "      <th>2ndFlrSF</th>\n",
       "      <th>LowQualFinSF</th>\n",
       "      <th>GrLivArea</th>\n",
       "      <th>BsmtFullBath</th>\n",
       "      <th>BsmtHalfBath</th>\n",
       "      <th>FullBath</th>\n",
       "      <th>HalfBath</th>\n",
       "      <th>BedroomAbvGr</th>\n",
       "      <th>KitchenAbvGr</th>\n",
       "      <th>KitchenQual</th>\n",
       "      <th>TotRmsAbvGrd</th>\n",
       "      <th>Functional</th>\n",
       "      <th>Fireplaces</th>\n",
       "      <th>FireplaceQu</th>\n",
       "      <th>GarageType</th>\n",
       "      <th>GarageYrBlt</th>\n",
       "      <th>GarageFinish</th>\n",
       "      <th>GarageCars</th>\n",
       "      <th>GarageArea</th>\n",
       "      <th>GarageQual</th>\n",
       "      <th>GarageCond</th>\n",
       "      <th>PavedDrive</th>\n",
       "      <th>WoodDeckSF</th>\n",
       "      <th>OpenPorchSF</th>\n",
       "      <th>EnclosedPorch</th>\n",
       "      <th>3SsnPorch</th>\n",
       "      <th>ScreenPorch</th>\n",
       "      <th>PoolArea</th>\n",
       "      <th>PoolQC</th>\n",
       "      <th>Fence</th>\n",
       "      <th>MiscFeature</th>\n",
       "      <th>MiscVal</th>\n",
       "      <th>MoSold</th>\n",
       "      <th>YrSold</th>\n",
       "      <th>SaleType</th>\n",
       "      <th>SaleCondition</th>\n",
       "      <th>SalePrice</th>\n",
       "    </tr>\n",
       "  </thead>\n",
       "  <tbody>\n",
       "    <tr>\n",
       "      <th>0</th>\n",
       "      <td>1461</td>\n",
       "      <td>20</td>\n",
       "      <td>RH</td>\n",
       "      <td>80.0</td>\n",
       "      <td>11622</td>\n",
       "      <td>Pave</td>\n",
       "      <td>NaN</td>\n",
       "      <td>Reg</td>\n",
       "      <td>Lvl</td>\n",
       "      <td>AllPub</td>\n",
       "      <td>Inside</td>\n",
       "      <td>Gtl</td>\n",
       "      <td>NAmes</td>\n",
       "      <td>Feedr</td>\n",
       "      <td>Norm</td>\n",
       "      <td>1Fam</td>\n",
       "      <td>1Story</td>\n",
       "      <td>5</td>\n",
       "      <td>6</td>\n",
       "      <td>1961</td>\n",
       "      <td>1961</td>\n",
       "      <td>Gable</td>\n",
       "      <td>CompShg</td>\n",
       "      <td>VinylSd</td>\n",
       "      <td>VinylSd</td>\n",
       "      <td>None</td>\n",
       "      <td>0.0</td>\n",
       "      <td>TA</td>\n",
       "      <td>TA</td>\n",
       "      <td>CBlock</td>\n",
       "      <td>TA</td>\n",
       "      <td>TA</td>\n",
       "      <td>No</td>\n",
       "      <td>Rec</td>\n",
       "      <td>468.0</td>\n",
       "      <td>LwQ</td>\n",
       "      <td>144.0</td>\n",
       "      <td>270.0</td>\n",
       "      <td>882.0</td>\n",
       "      <td>GasA</td>\n",
       "      <td>...</td>\n",
       "      <td>Y</td>\n",
       "      <td>SBrkr</td>\n",
       "      <td>896</td>\n",
       "      <td>0</td>\n",
       "      <td>0</td>\n",
       "      <td>896</td>\n",
       "      <td>0.0</td>\n",
       "      <td>0.0</td>\n",
       "      <td>1</td>\n",
       "      <td>0</td>\n",
       "      <td>2</td>\n",
       "      <td>1</td>\n",
       "      <td>TA</td>\n",
       "      <td>5</td>\n",
       "      <td>Typ</td>\n",
       "      <td>0</td>\n",
       "      <td>NaN</td>\n",
       "      <td>Attchd</td>\n",
       "      <td>1961.0</td>\n",
       "      <td>Unf</td>\n",
       "      <td>1.0</td>\n",
       "      <td>730.0</td>\n",
       "      <td>TA</td>\n",
       "      <td>TA</td>\n",
       "      <td>Y</td>\n",
       "      <td>140</td>\n",
       "      <td>0</td>\n",
       "      <td>0</td>\n",
       "      <td>0</td>\n",
       "      <td>120</td>\n",
       "      <td>0</td>\n",
       "      <td>NaN</td>\n",
       "      <td>MnPrv</td>\n",
       "      <td>NaN</td>\n",
       "      <td>0</td>\n",
       "      <td>6</td>\n",
       "      <td>2010</td>\n",
       "      <td>WD</td>\n",
       "      <td>Normal</td>\n",
       "      <td>NaN</td>\n",
       "    </tr>\n",
       "    <tr>\n",
       "      <th>1</th>\n",
       "      <td>1462</td>\n",
       "      <td>20</td>\n",
       "      <td>RL</td>\n",
       "      <td>81.0</td>\n",
       "      <td>14267</td>\n",
       "      <td>Pave</td>\n",
       "      <td>NaN</td>\n",
       "      <td>IR1</td>\n",
       "      <td>Lvl</td>\n",
       "      <td>AllPub</td>\n",
       "      <td>Corner</td>\n",
       "      <td>Gtl</td>\n",
       "      <td>NAmes</td>\n",
       "      <td>Norm</td>\n",
       "      <td>Norm</td>\n",
       "      <td>1Fam</td>\n",
       "      <td>1Story</td>\n",
       "      <td>6</td>\n",
       "      <td>6</td>\n",
       "      <td>1958</td>\n",
       "      <td>1958</td>\n",
       "      <td>Hip</td>\n",
       "      <td>CompShg</td>\n",
       "      <td>Wd Sdng</td>\n",
       "      <td>Wd Sdng</td>\n",
       "      <td>BrkFace</td>\n",
       "      <td>108.0</td>\n",
       "      <td>TA</td>\n",
       "      <td>TA</td>\n",
       "      <td>CBlock</td>\n",
       "      <td>TA</td>\n",
       "      <td>TA</td>\n",
       "      <td>No</td>\n",
       "      <td>ALQ</td>\n",
       "      <td>923.0</td>\n",
       "      <td>Unf</td>\n",
       "      <td>0.0</td>\n",
       "      <td>406.0</td>\n",
       "      <td>1329.0</td>\n",
       "      <td>GasA</td>\n",
       "      <td>...</td>\n",
       "      <td>Y</td>\n",
       "      <td>SBrkr</td>\n",
       "      <td>1329</td>\n",
       "      <td>0</td>\n",
       "      <td>0</td>\n",
       "      <td>1329</td>\n",
       "      <td>0.0</td>\n",
       "      <td>0.0</td>\n",
       "      <td>1</td>\n",
       "      <td>1</td>\n",
       "      <td>3</td>\n",
       "      <td>1</td>\n",
       "      <td>Gd</td>\n",
       "      <td>6</td>\n",
       "      <td>Typ</td>\n",
       "      <td>0</td>\n",
       "      <td>NaN</td>\n",
       "      <td>Attchd</td>\n",
       "      <td>1958.0</td>\n",
       "      <td>Unf</td>\n",
       "      <td>1.0</td>\n",
       "      <td>312.0</td>\n",
       "      <td>TA</td>\n",
       "      <td>TA</td>\n",
       "      <td>Y</td>\n",
       "      <td>393</td>\n",
       "      <td>36</td>\n",
       "      <td>0</td>\n",
       "      <td>0</td>\n",
       "      <td>0</td>\n",
       "      <td>0</td>\n",
       "      <td>NaN</td>\n",
       "      <td>NaN</td>\n",
       "      <td>Gar2</td>\n",
       "      <td>12500</td>\n",
       "      <td>6</td>\n",
       "      <td>2010</td>\n",
       "      <td>WD</td>\n",
       "      <td>Normal</td>\n",
       "      <td>NaN</td>\n",
       "    </tr>\n",
       "    <tr>\n",
       "      <th>2</th>\n",
       "      <td>1463</td>\n",
       "      <td>60</td>\n",
       "      <td>RL</td>\n",
       "      <td>74.0</td>\n",
       "      <td>13830</td>\n",
       "      <td>Pave</td>\n",
       "      <td>NaN</td>\n",
       "      <td>IR1</td>\n",
       "      <td>Lvl</td>\n",
       "      <td>AllPub</td>\n",
       "      <td>Inside</td>\n",
       "      <td>Gtl</td>\n",
       "      <td>Gilbert</td>\n",
       "      <td>Norm</td>\n",
       "      <td>Norm</td>\n",
       "      <td>1Fam</td>\n",
       "      <td>2Story</td>\n",
       "      <td>5</td>\n",
       "      <td>5</td>\n",
       "      <td>1997</td>\n",
       "      <td>1998</td>\n",
       "      <td>Gable</td>\n",
       "      <td>CompShg</td>\n",
       "      <td>VinylSd</td>\n",
       "      <td>VinylSd</td>\n",
       "      <td>None</td>\n",
       "      <td>0.0</td>\n",
       "      <td>TA</td>\n",
       "      <td>TA</td>\n",
       "      <td>PConc</td>\n",
       "      <td>Gd</td>\n",
       "      <td>TA</td>\n",
       "      <td>No</td>\n",
       "      <td>GLQ</td>\n",
       "      <td>791.0</td>\n",
       "      <td>Unf</td>\n",
       "      <td>0.0</td>\n",
       "      <td>137.0</td>\n",
       "      <td>928.0</td>\n",
       "      <td>GasA</td>\n",
       "      <td>...</td>\n",
       "      <td>Y</td>\n",
       "      <td>SBrkr</td>\n",
       "      <td>928</td>\n",
       "      <td>701</td>\n",
       "      <td>0</td>\n",
       "      <td>1629</td>\n",
       "      <td>0.0</td>\n",
       "      <td>0.0</td>\n",
       "      <td>2</td>\n",
       "      <td>1</td>\n",
       "      <td>3</td>\n",
       "      <td>1</td>\n",
       "      <td>TA</td>\n",
       "      <td>6</td>\n",
       "      <td>Typ</td>\n",
       "      <td>1</td>\n",
       "      <td>TA</td>\n",
       "      <td>Attchd</td>\n",
       "      <td>1997.0</td>\n",
       "      <td>Fin</td>\n",
       "      <td>2.0</td>\n",
       "      <td>482.0</td>\n",
       "      <td>TA</td>\n",
       "      <td>TA</td>\n",
       "      <td>Y</td>\n",
       "      <td>212</td>\n",
       "      <td>34</td>\n",
       "      <td>0</td>\n",
       "      <td>0</td>\n",
       "      <td>0</td>\n",
       "      <td>0</td>\n",
       "      <td>NaN</td>\n",
       "      <td>MnPrv</td>\n",
       "      <td>NaN</td>\n",
       "      <td>0</td>\n",
       "      <td>3</td>\n",
       "      <td>2010</td>\n",
       "      <td>WD</td>\n",
       "      <td>Normal</td>\n",
       "      <td>NaN</td>\n",
       "    </tr>\n",
       "    <tr>\n",
       "      <th>3</th>\n",
       "      <td>1464</td>\n",
       "      <td>60</td>\n",
       "      <td>RL</td>\n",
       "      <td>78.0</td>\n",
       "      <td>9978</td>\n",
       "      <td>Pave</td>\n",
       "      <td>NaN</td>\n",
       "      <td>IR1</td>\n",
       "      <td>Lvl</td>\n",
       "      <td>AllPub</td>\n",
       "      <td>Inside</td>\n",
       "      <td>Gtl</td>\n",
       "      <td>Gilbert</td>\n",
       "      <td>Norm</td>\n",
       "      <td>Norm</td>\n",
       "      <td>1Fam</td>\n",
       "      <td>2Story</td>\n",
       "      <td>6</td>\n",
       "      <td>6</td>\n",
       "      <td>1998</td>\n",
       "      <td>1998</td>\n",
       "      <td>Gable</td>\n",
       "      <td>CompShg</td>\n",
       "      <td>VinylSd</td>\n",
       "      <td>VinylSd</td>\n",
       "      <td>BrkFace</td>\n",
       "      <td>20.0</td>\n",
       "      <td>TA</td>\n",
       "      <td>TA</td>\n",
       "      <td>PConc</td>\n",
       "      <td>TA</td>\n",
       "      <td>TA</td>\n",
       "      <td>No</td>\n",
       "      <td>GLQ</td>\n",
       "      <td>602.0</td>\n",
       "      <td>Unf</td>\n",
       "      <td>0.0</td>\n",
       "      <td>324.0</td>\n",
       "      <td>926.0</td>\n",
       "      <td>GasA</td>\n",
       "      <td>...</td>\n",
       "      <td>Y</td>\n",
       "      <td>SBrkr</td>\n",
       "      <td>926</td>\n",
       "      <td>678</td>\n",
       "      <td>0</td>\n",
       "      <td>1604</td>\n",
       "      <td>0.0</td>\n",
       "      <td>0.0</td>\n",
       "      <td>2</td>\n",
       "      <td>1</td>\n",
       "      <td>3</td>\n",
       "      <td>1</td>\n",
       "      <td>Gd</td>\n",
       "      <td>7</td>\n",
       "      <td>Typ</td>\n",
       "      <td>1</td>\n",
       "      <td>Gd</td>\n",
       "      <td>Attchd</td>\n",
       "      <td>1998.0</td>\n",
       "      <td>Fin</td>\n",
       "      <td>2.0</td>\n",
       "      <td>470.0</td>\n",
       "      <td>TA</td>\n",
       "      <td>TA</td>\n",
       "      <td>Y</td>\n",
       "      <td>360</td>\n",
       "      <td>36</td>\n",
       "      <td>0</td>\n",
       "      <td>0</td>\n",
       "      <td>0</td>\n",
       "      <td>0</td>\n",
       "      <td>NaN</td>\n",
       "      <td>NaN</td>\n",
       "      <td>NaN</td>\n",
       "      <td>0</td>\n",
       "      <td>6</td>\n",
       "      <td>2010</td>\n",
       "      <td>WD</td>\n",
       "      <td>Normal</td>\n",
       "      <td>NaN</td>\n",
       "    </tr>\n",
       "    <tr>\n",
       "      <th>4</th>\n",
       "      <td>1465</td>\n",
       "      <td>120</td>\n",
       "      <td>RL</td>\n",
       "      <td>43.0</td>\n",
       "      <td>5005</td>\n",
       "      <td>Pave</td>\n",
       "      <td>NaN</td>\n",
       "      <td>IR1</td>\n",
       "      <td>HLS</td>\n",
       "      <td>AllPub</td>\n",
       "      <td>Inside</td>\n",
       "      <td>Gtl</td>\n",
       "      <td>StoneBr</td>\n",
       "      <td>Norm</td>\n",
       "      <td>Norm</td>\n",
       "      <td>TwnhsE</td>\n",
       "      <td>1Story</td>\n",
       "      <td>8</td>\n",
       "      <td>5</td>\n",
       "      <td>1992</td>\n",
       "      <td>1992</td>\n",
       "      <td>Gable</td>\n",
       "      <td>CompShg</td>\n",
       "      <td>HdBoard</td>\n",
       "      <td>HdBoard</td>\n",
       "      <td>None</td>\n",
       "      <td>0.0</td>\n",
       "      <td>Gd</td>\n",
       "      <td>TA</td>\n",
       "      <td>PConc</td>\n",
       "      <td>Gd</td>\n",
       "      <td>TA</td>\n",
       "      <td>No</td>\n",
       "      <td>ALQ</td>\n",
       "      <td>263.0</td>\n",
       "      <td>Unf</td>\n",
       "      <td>0.0</td>\n",
       "      <td>1017.0</td>\n",
       "      <td>1280.0</td>\n",
       "      <td>GasA</td>\n",
       "      <td>...</td>\n",
       "      <td>Y</td>\n",
       "      <td>SBrkr</td>\n",
       "      <td>1280</td>\n",
       "      <td>0</td>\n",
       "      <td>0</td>\n",
       "      <td>1280</td>\n",
       "      <td>0.0</td>\n",
       "      <td>0.0</td>\n",
       "      <td>2</td>\n",
       "      <td>0</td>\n",
       "      <td>2</td>\n",
       "      <td>1</td>\n",
       "      <td>Gd</td>\n",
       "      <td>5</td>\n",
       "      <td>Typ</td>\n",
       "      <td>0</td>\n",
       "      <td>NaN</td>\n",
       "      <td>Attchd</td>\n",
       "      <td>1992.0</td>\n",
       "      <td>RFn</td>\n",
       "      <td>2.0</td>\n",
       "      <td>506.0</td>\n",
       "      <td>TA</td>\n",
       "      <td>TA</td>\n",
       "      <td>Y</td>\n",
       "      <td>0</td>\n",
       "      <td>82</td>\n",
       "      <td>0</td>\n",
       "      <td>0</td>\n",
       "      <td>144</td>\n",
       "      <td>0</td>\n",
       "      <td>NaN</td>\n",
       "      <td>NaN</td>\n",
       "      <td>NaN</td>\n",
       "      <td>0</td>\n",
       "      <td>1</td>\n",
       "      <td>2010</td>\n",
       "      <td>WD</td>\n",
       "      <td>Normal</td>\n",
       "      <td>NaN</td>\n",
       "    </tr>\n",
       "  </tbody>\n",
       "</table>\n",
       "<p>5 rows × 81 columns</p>\n",
       "</div>"
      ],
      "text/plain": [
       "     Id  MSSubClass MSZoning  ...  SaleType  SaleCondition SalePrice\n",
       "0  1461          20       RH  ...        WD         Normal       NaN\n",
       "1  1462          20       RL  ...        WD         Normal       NaN\n",
       "2  1463          60       RL  ...        WD         Normal       NaN\n",
       "3  1464          60       RL  ...        WD         Normal       NaN\n",
       "4  1465         120       RL  ...        WD         Normal       NaN\n",
       "\n",
       "[5 rows x 81 columns]"
      ]
     },
     "execution_count": 8,
     "metadata": {
      "tags": []
     },
     "output_type": "execute_result"
    }
   ],
   "source": [
    "test_file.head()"
   ]
  },
  {
   "cell_type": "code",
   "execution_count": 0,
   "metadata": {
    "colab": {},
    "colab_type": "code",
    "id": "Ooo1O7-KB2Bg"
   },
   "outputs": [],
   "source": [
    "train_file['data']='train'\n",
    "test_file['data']='test'"
   ]
  },
  {
   "cell_type": "code",
   "execution_count": 0,
   "metadata": {
    "colab": {},
    "colab_type": "code",
    "id": "PjVWGvLoB4o_"
   },
   "outputs": [],
   "source": [
    "test_file=test_file[train_file.columns]"
   ]
  },
  {
   "cell_type": "code",
   "execution_count": 0,
   "metadata": {
    "colab": {},
    "colab_type": "code",
    "id": "QDvEF4TMB7O0"
   },
   "outputs": [],
   "source": [
    "file=pd.concat([train_file,test_file],axis=0)"
   ]
  },
  {
   "cell_type": "code",
   "execution_count": 24,
   "metadata": {
    "colab": {
     "base_uri": "https://localhost:8080/",
     "height": 221
    },
    "colab_type": "code",
    "id": "rRGRUtltB-35",
    "outputId": "013926b4-98ba-4a66-d301-e7aacbe00595"
   },
   "outputs": [
    {
     "data": {
      "text/plain": [
       "Id                 int64\n",
       "MSSubClass         int64\n",
       "MSZoning         float64\n",
       "LotFrontage      float64\n",
       "LotArea            int64\n",
       "                  ...   \n",
       "YrSold             int64\n",
       "SaleType          object\n",
       "SaleCondition     object\n",
       "SalePrice        float64\n",
       "data              object\n",
       "Length: 82, dtype: object"
      ]
     },
     "execution_count": 24,
     "metadata": {
      "tags": []
     },
     "output_type": "execute_result"
    }
   ],
   "source": [
    "file.dtypes"
   ]
  },
  {
   "cell_type": "code",
   "execution_count": 0,
   "metadata": {
    "colab": {},
    "colab_type": "code",
    "id": "ibFHjAIoCD46"
   },
   "outputs": [],
   "source": [
    "file['MSZoning']=pd.to_numeric(file['MSZoning'],errors='coerce')\n"
   ]
  },
  {
   "cell_type": "code",
   "execution_count": 40,
   "metadata": {
    "colab": {
     "base_uri": "https://localhost:8080/",
     "height": 221
    },
    "colab_type": "code",
    "id": "dX3UbypHDTwG",
    "outputId": "414ddd8b-740a-4995-f13f-17fd71288a9a"
   },
   "outputs": [
    {
     "data": {
      "text/plain": [
       "Id                  0\n",
       "MSSubClass          0\n",
       "MSZoning         2919\n",
       "LotFrontage         0\n",
       "LotArea             0\n",
       "                 ... \n",
       "YrSold              0\n",
       "SaleType            1\n",
       "SaleCondition       0\n",
       "SalePrice           0\n",
       "data                0\n",
       "Length: 82, dtype: int64"
      ]
     },
     "execution_count": 40,
     "metadata": {
      "tags": []
     },
     "output_type": "execute_result"
    }
   ],
   "source": [
    "file.isnull().sum()"
   ]
  },
  {
   "cell_type": "code",
   "execution_count": 57,
   "metadata": {
    "colab": {
     "base_uri": "https://localhost:8080/",
     "height": 221
    },
    "colab_type": "code",
    "id": "T3WBid5tFTak",
    "outputId": "be382304-db8e-4d68-b440-dbef7f3c4de5"
   },
   "outputs": [
    {
     "data": {
      "text/plain": [
       "MSSubClass          0\n",
       "MSZoning         2919\n",
       "LotFrontage         0\n",
       "LotArea             0\n",
       "OverallQual         0\n",
       "                 ... \n",
       "GarageCond_Po       0\n",
       "GarageCond_TA       0\n",
       "Fence_GdWo          0\n",
       "Fence_MnPrv         0\n",
       "Fence_MnWw          0\n",
       "Length: 146, dtype: int64"
      ]
     },
     "execution_count": 57,
     "metadata": {
      "tags": []
     },
     "output_type": "execute_result"
    }
   ],
   "source": [
    "file.isnull().sum()"
   ]
  },
  {
   "cell_type": "code",
   "execution_count": 66,
   "metadata": {
    "colab": {
     "base_uri": "https://localhost:8080/",
     "height": 221
    },
    "colab_type": "code",
    "id": "F-Y-FJEEDeRf",
    "outputId": "52e02025-dcde-4f1f-8db7-ee3b7ad60b16"
   },
   "outputs": [
    {
     "data": {
      "text/plain": [
       "Id               0\n",
       "MSSubClass       0\n",
       "MSZoning         0\n",
       "LotFrontage      0\n",
       "LotArea          0\n",
       "                ..\n",
       "YrSold           0\n",
       "SaleType         0\n",
       "SaleCondition    0\n",
       "SalePrice        0\n",
       "data             0\n",
       "Length: 82, dtype: int64"
      ]
     },
     "execution_count": 66,
     "metadata": {
      "tags": []
     },
     "output_type": "execute_result"
    }
   ],
   "source": [
    "\n",
    "def fill_empty(file):\n",
    "    file.fillna(value = file.mean(), inplace = True)\n",
    "    return file.isnull().sum()\n",
    "\n",
    "fill_empty(file)\n",
    "fill_empty(train_file)"
   ]
  },
  {
   "cell_type": "code",
   "execution_count": 0,
   "metadata": {
    "colab": {},
    "colab_type": "code",
    "id": "OISfVK2BFXRk"
   },
   "outputs": [],
   "source": [
    "file[]"
   ]
  },
  {
   "cell_type": "code",
   "execution_count": 0,
   "metadata": {
    "colab": {},
    "colab_type": "code",
    "id": "tpLdbxRjFUW_"
   },
   "outputs": [],
   "source": [
    "file.drop(['Id','MSZoning','FireplaceQu','SaleCondition','SaleType','MiscFeature','PoolQC','PavedDrive','GarageFinish','Functional','Alley','LotShape','LandContour','LotConfig','LandSlope','Condition1','Condition2','Exterior1st','Exterior2nd','MasVnrType','MasVnrArea','Foundation'],axis=1,inplace=True)"
   ]
  },
  {
   "cell_type": "code",
   "execution_count": 69,
   "metadata": {
    "colab": {
     "base_uri": "https://localhost:8080/",
     "height": 119
    },
    "colab_type": "code",
    "id": "ZkB8aQwGF6p3",
    "outputId": "53fa3647-7694-40c0-a426-8ee1bcc14f3b"
   },
   "outputs": [
    {
     "data": {
      "text/plain": [
       "Index(['Street', 'Utilities', 'Neighborhood', 'BldgType', 'HouseStyle',\n",
       "       'RoofStyle', 'RoofMatl', 'ExterQual', 'ExterCond', 'BsmtQual',\n",
       "       'BsmtCond', 'BsmtExposure', 'BsmtFinType1', 'BsmtFinType2', 'Heating',\n",
       "       'HeatingQC', 'CentralAir', 'Electrical', 'KitchenQual', 'GarageType',\n",
       "       'GarageQual', 'GarageCond', 'Fence', 'data'],\n",
       "      dtype='object')"
      ]
     },
     "execution_count": 69,
     "metadata": {
      "tags": []
     },
     "output_type": "execute_result"
    }
   ],
   "source": [
    "cat_vars=file.select_dtypes(['object']).columns\n",
    "\n",
    "cat_vars"
   ]
  },
  {
   "cell_type": "code",
   "execution_count": 70,
   "metadata": {
    "colab": {
     "base_uri": "https://localhost:8080/",
     "height": 408
    },
    "colab_type": "code",
    "id": "RfBmhj43F-uv",
    "outputId": "001555a3-a5e5-4bc6-f5e1-aeb23ea8ad9b"
   },
   "outputs": [
    {
     "name": "stdout",
     "output_type": "stream",
     "text": [
      "Street\n",
      "Utilities\n",
      "Neighborhood\n",
      "BldgType\n",
      "HouseStyle\n",
      "RoofStyle\n",
      "RoofMatl\n",
      "ExterQual\n",
      "ExterCond\n",
      "BsmtQual\n",
      "BsmtCond\n",
      "BsmtExposure\n",
      "BsmtFinType1\n",
      "BsmtFinType2\n",
      "Heating\n",
      "HeatingQC\n",
      "CentralAir\n",
      "Electrical\n",
      "KitchenQual\n",
      "GarageType\n",
      "GarageQual\n",
      "GarageCond\n",
      "Fence\n"
     ]
    }
   ],
   "source": [
    "for col in cat_vars[:-1]:\n",
    "    dummy=pd.get_dummies(file[col],drop_first=True,prefix=col)\n",
    "    file=pd.concat([file,dummy],axis=1)\n",
    "    del file[col]\n",
    "    print(col)\n",
    "del dummy"
   ]
  },
  {
   "cell_type": "code",
   "execution_count": 44,
   "metadata": {
    "colab": {
     "base_uri": "https://localhost:8080/",
     "height": 221
    },
    "colab_type": "code",
    "id": "5HqnxdY5GB2d",
    "outputId": "568bac61-d84b-46ad-8f06-a298787926cf"
   },
   "outputs": [
    {
     "data": {
      "text/plain": [
       "MSSubClass         int64\n",
       "MSZoning         float64\n",
       "LotFrontage      float64\n",
       "LotArea            int64\n",
       "OverallQual        int64\n",
       "                  ...   \n",
       "GarageCond_Po      uint8\n",
       "GarageCond_TA      uint8\n",
       "Fence_GdWo         uint8\n",
       "Fence_MnPrv        uint8\n",
       "Fence_MnWw         uint8\n",
       "Length: 146, dtype: object"
      ]
     },
     "execution_count": 44,
     "metadata": {
      "tags": []
     },
     "output_type": "execute_result"
    }
   ],
   "source": [
    "file.dtypes"
   ]
  },
  {
   "cell_type": "code",
   "execution_count": 45,
   "metadata": {
    "colab": {
     "base_uri": "https://localhost:8080/",
     "height": 34
    },
    "colab_type": "code",
    "id": "P-YOBapSGGU4",
    "outputId": "50867781-5f5c-43a8-85bb-b7ba1765686f"
   },
   "outputs": [
    {
     "data": {
      "text/plain": [
       "(2919, 146)"
      ]
     },
     "execution_count": 45,
     "metadata": {
      "tags": []
     },
     "output_type": "execute_result"
    }
   ],
   "source": [
    "file.shape"
   ]
  },
  {
   "cell_type": "code",
   "execution_count": 72,
   "metadata": {
    "colab": {
     "base_uri": "https://localhost:8080/",
     "height": 102
    },
    "colab_type": "code",
    "id": "FzdNDaaPGJU2",
    "outputId": "06a7c271-3b83-4ddc-c3d2-1c4c68b8ca4d"
   },
   "outputs": [
    {
     "name": "stderr",
     "output_type": "stream",
     "text": [
      "/usr/local/lib/python3.6/dist-packages/pandas/core/frame.py:4117: SettingWithCopyWarning: \n",
      "A value is trying to be set on a copy of a slice from a DataFrame\n",
      "\n",
      "See the caveats in the documentation: http://pandas.pydata.org/pandas-docs/stable/user_guide/indexing.html#returning-a-view-versus-a-copy\n",
      "  errors=errors,\n"
     ]
    }
   ],
   "source": [
    "train_file=file[file['data']=='train']\n",
    "test_file=file[file['data']=='test']\n",
    "\n",
    "train_file.drop(columns='data',axis=1,inplace=True)\n",
    "test_file.drop(columns=['data','SalePrice'],axis=1,inplace=True)"
   ]
  },
  {
   "cell_type": "code",
   "execution_count": 73,
   "metadata": {
    "colab": {
     "base_uri": "https://localhost:8080/",
     "height": 221
    },
    "colab_type": "code",
    "id": "J6t50h5vGY1C",
    "outputId": "9f89a90d-2b36-45e6-ad64-94be94f936ac"
   },
   "outputs": [
    {
     "data": {
      "text/plain": [
       "MSSubClass       0\n",
       "LotFrontage      0\n",
       "LotArea          0\n",
       "OverallQual      0\n",
       "OverallCond      0\n",
       "                ..\n",
       "GarageCond_Po    0\n",
       "GarageCond_TA    0\n",
       "Fence_GdWo       0\n",
       "Fence_MnPrv      0\n",
       "Fence_MnWw       0\n",
       "Length: 144, dtype: int64"
      ]
     },
     "execution_count": 73,
     "metadata": {
      "tags": []
     },
     "output_type": "execute_result"
    }
   ],
   "source": [
    "train_file.isnull().sum()"
   ]
  },
  {
   "cell_type": "code",
   "execution_count": 0,
   "metadata": {
    "colab": {},
    "colab_type": "code",
    "id": "QD23DGXOGfNn"
   },
   "outputs": [],
   "source": [
    "from sklearn import metrics\n",
    "from sklearn.linear_model import LinearRegression\n",
    "from sklearn.model_selection import train_test_split\n",
    "from sklearn.linear_model import Ridge,Lasso\n",
    "from sklearn.model_selection import GridSearchCV\n",
    "from sklearn.metrics import mean_absolute_error\n",
    "from sklearn.ensemble import RandomForestRegressor \n",
    "from sklearn.model_selection import RandomizedSearchCV"
   ]
  },
  {
   "cell_type": "code",
   "execution_count": 75,
   "metadata": {
    "colab": {
     "base_uri": "https://localhost:8080/",
     "height": 51
    },
    "colab_type": "code",
    "id": "UNJ7KFbsGiRR",
    "outputId": "1239048e-8418-42cd-9211-96ae0b2a82cb"
   },
   "outputs": [
    {
     "name": "stdout",
     "output_type": "stream",
     "text": [
      "(1168, 144)\n",
      "(292, 144)\n"
     ]
    }
   ],
   "source": [
    "training_data, validation_data = train_test_split(train_file,test_size=0.2,random_state=10)\n",
    "print(training_data.shape)\n",
    "print(validation_data.shape)"
   ]
  },
  {
   "cell_type": "code",
   "execution_count": 0,
   "metadata": {
    "colab": {},
    "colab_type": "code",
    "id": "_lzvav6iGnYY"
   },
   "outputs": [],
   "source": [
    "x_train=training_data.drop(['SalePrice'],axis=1)\n",
    "y_train=training_data['SalePrice']"
   ]
  },
  {
   "cell_type": "code",
   "execution_count": 0,
   "metadata": {
    "colab": {},
    "colab_type": "code",
    "id": "4rsUVLzGGu-Q"
   },
   "outputs": [],
   "source": [
    "lm=LinearRegression()"
   ]
  },
  {
   "cell_type": "code",
   "execution_count": 55,
   "metadata": {
    "colab": {
     "base_uri": "https://localhost:8080/",
     "height": 34
    },
    "colab_type": "code",
    "id": "5qQ0-vW1HCz8",
    "outputId": "95cb3d5b-0fdf-4d26-b39c-1927b1baebed"
   },
   "outputs": [
    {
     "data": {
      "text/plain": [
       "0"
      ]
     },
     "execution_count": 55,
     "metadata": {
      "tags": []
     },
     "output_type": "execute_result"
    }
   ],
   "source": []
  },
  {
   "cell_type": "code",
   "execution_count": 78,
   "metadata": {
    "colab": {
     "base_uri": "https://localhost:8080/",
     "height": 34
    },
    "colab_type": "code",
    "id": "JhqQK6KBG2iK",
    "outputId": "115feda2-6264-451b-a411-32a0e857d0f6"
   },
   "outputs": [
    {
     "data": {
      "text/plain": [
       "LinearRegression(copy_X=True, fit_intercept=True, n_jobs=None, normalize=False)"
      ]
     },
     "execution_count": 78,
     "metadata": {
      "tags": []
     },
     "output_type": "execute_result"
    }
   ],
   "source": [
    "lm.fit(x_train,y_train)"
   ]
  },
  {
   "cell_type": "code",
   "execution_count": 80,
   "metadata": {
    "colab": {
     "base_uri": "https://localhost:8080/",
     "height": 34
    },
    "colab_type": "code",
    "id": "3JfxVGtoIEE6",
    "outputId": "fd6c55b0-29c6-492d-b86c-5be89cae9046"
   },
   "outputs": [
    {
     "data": {
      "text/plain": [
       "22221.106538154436"
      ]
     },
     "execution_count": 80,
     "metadata": {
      "tags": []
     },
     "output_type": "execute_result"
    }
   ],
   "source": [
    "testing_data=validation_data.drop('SalePrice',axis=1)\n",
    "predicted_ir=lm.predict(testing_data)\n",
    "MAE=mean_absolute_error(validation_data['SalePrice'],predicted_ir)\n",
    "MAE"
   ]
  },
  {
   "cell_type": "code",
   "execution_count": 81,
   "metadata": {
    "colab": {
     "base_uri": "https://localhost:8080/",
     "height": 1000
    },
    "colab_type": "code",
    "id": "zop1K7jBIO36",
    "outputId": "8abc48a0-3a32-4d25-cc46-185e0151dc6b"
   },
   "outputs": [
    {
     "data": {
      "text/plain": [
       "[('MSSubClass', -87.72165559221999),\n",
       " ('LotFrontage', 63.7046102124094),\n",
       " ('LotArea', 0.4742519556865654),\n",
       " ('OverallQual', 6867.9776015402485),\n",
       " ('OverallCond', 6215.233684584495),\n",
       " ('YearBuilt', 325.85909785886764),\n",
       " ('YearRemodAdd', 66.19706692212428),\n",
       " ('BsmtFinSF1', 13.355497645055836),\n",
       " ('BsmtFinSF2', 7.379749183663044),\n",
       " ('BsmtUnfSF', 3.399291405426453),\n",
       " ('TotalBsmtSF', 24.13452376372169),\n",
       " ('1stFlrSF', 7.40489368981946),\n",
       " ('2ndFlrSF', 41.00901074859496),\n",
       " ('LowQualFinSF', -22.405309094237055),\n",
       " ('GrLivArea', 26.00843684187066),\n",
       " ('BsmtFullBath', 3477.492320504939),\n",
       " ('BsmtHalfBath', 221.1227471952393),\n",
       " ('FullBath', 3921.6788868423073),\n",
       " ('HalfBath', -544.9124671871732),\n",
       " ('BedroomAbvGr', -4093.203291937247),\n",
       " ('KitchenAbvGr', -25693.11381322831),\n",
       " ('TotRmsAbvGrd', 3079.213704097294),\n",
       " ('Fireplaces', 2964.4604448235295),\n",
       " ('GarageYrBlt', 14.425301382067119),\n",
       " ('GarageCars', 7473.382224413803),\n",
       " ('GarageArea', 6.575505765894377),\n",
       " ('WoodDeckSF', 17.511215553983675),\n",
       " ('OpenPorchSF', -12.91625813682549),\n",
       " ('EnclosedPorch', -3.7090588970477256),\n",
       " ('3SsnPorch', 27.66063097690403),\n",
       " ('ScreenPorch', 48.2911347840236),\n",
       " ('PoolArea', 109.63344571011658),\n",
       " ('MiscVal', -0.7382918651956061),\n",
       " ('MoSold', -303.3037070155433),\n",
       " ('YrSold', -586.5331151082282),\n",
       " ('Street_Pave', 45908.16145960466),\n",
       " ('Utilities_NoSeWa', -40941.81981582132),\n",
       " ('Neighborhood_Blueste', -3876.5123383982454),\n",
       " ('Neighborhood_BrDale', -2130.701182771344),\n",
       " ('Neighborhood_BrkSide', -8160.009676310161),\n",
       " ('Neighborhood_ClearCr', -20272.79286430446),\n",
       " ('Neighborhood_CollgCr', -5062.867418859397),\n",
       " ('Neighborhood_Crawfor', 13719.941716301626),\n",
       " ('Neighborhood_Edwards', -26131.294625791157),\n",
       " ('Neighborhood_Gilbert', -8288.773824878512),\n",
       " ('Neighborhood_IDOTRR', -15969.356987229057),\n",
       " ('Neighborhood_MeadowV', -3702.0106113980764),\n",
       " ('Neighborhood_Mitchel', -22144.137964385558),\n",
       " ('Neighborhood_NAmes', -17351.3006803917),\n",
       " ('Neighborhood_NPkVill', 5000.842376436409),\n",
       " ('Neighborhood_NWAmes', -21311.800056008367),\n",
       " ('Neighborhood_NoRidge', 37321.28894225432),\n",
       " ('Neighborhood_NridgHt', 23468.077209870775),\n",
       " ('Neighborhood_OldTown', -18848.971489724845),\n",
       " ('Neighborhood_SWISU', -11474.7959590539),\n",
       " ('Neighborhood_Sawyer', -18331.190263951838),\n",
       " ('Neighborhood_SawyerW', -8826.877337995946),\n",
       " ('Neighborhood_Somerst', 15418.632416491084),\n",
       " ('Neighborhood_StoneBr', 40663.233777702815),\n",
       " ('Neighborhood_Timber', -4875.079392916514),\n",
       " ('Neighborhood_Veenker', -2640.5496552254713),\n",
       " ('BldgType_2fmCon', 6919.006223262211),\n",
       " ('BldgType_Duplex', -690.7181037619057),\n",
       " ('BldgType_Twnhs', -14380.849120631598),\n",
       " ('BldgType_TwnhsE', -9272.333275869361),\n",
       " ('HouseStyle_1.5Unf', 14017.851680646148),\n",
       " ('HouseStyle_1Story', 10779.19559147177),\n",
       " ('HouseStyle_2.5Fin', -26963.291941117637),\n",
       " ('HouseStyle_2.5Unf', -3718.4952435988844),\n",
       " ('HouseStyle_2Story', -4532.556487758349),\n",
       " ('HouseStyle_SFoyer', 11398.99995474736),\n",
       " ('HouseStyle_SLvl', 8496.958483017886),\n",
       " ('RoofStyle_Gable', 25074.7228095604),\n",
       " ('RoofStyle_Gambrel', 19655.878609334985),\n",
       " ('RoofStyle_Hip', 26158.968436096526),\n",
       " ('RoofStyle_Mansard', 36467.8764157428),\n",
       " ('RoofStyle_Shed', 31776.819844885853),\n",
       " ('RoofMatl_CompShg', 596655.8147542806),\n",
       " ('RoofMatl_Membran', 649200.8326749069),\n",
       " ('RoofMatl_Metal', -2.051820047199726e-09),\n",
       " ('RoofMatl_Roll', 6.693881005048752e-10),\n",
       " ('RoofMatl_Tar&Grv', 602466.7634212032),\n",
       " ('RoofMatl_WdShake', 598764.9093563776),\n",
       " ('RoofMatl_WdShngl', 655735.7988201764),\n",
       " ('ExterQual_Fa', -14304.528013836185),\n",
       " ('ExterQual_Gd', -19725.10813047721),\n",
       " ('ExterQual_TA', -19717.87270044831),\n",
       " ('ExterCond_Fa', -17920.819299875355),\n",
       " ('ExterCond_Gd', -22776.277906412673),\n",
       " ('ExterCond_Po', -26346.31824304217),\n",
       " ('ExterCond_TA', -20765.345297413216),\n",
       " ('BsmtQual_Fa', -21774.140111412264),\n",
       " ('BsmtQual_Gd', -25373.71015783586),\n",
       " ('BsmtQual_TA', -21611.563632634512),\n",
       " ('BsmtCond_Gd', 1274.920044837258),\n",
       " ('BsmtCond_Po', -479.07125044441733),\n",
       " ('BsmtCond_TA', 6567.527699271745),\n",
       " ('BsmtExposure_Gd', 16423.03638375809),\n",
       " ('BsmtExposure_Mn', 349.45458190115005),\n",
       " ('BsmtExposure_No', -4208.081942800656),\n",
       " ('BsmtFinType1_BLQ', 3305.718907632755),\n",
       " ('BsmtFinType1_GLQ', 2957.7138058369437),\n",
       " ('BsmtFinType1_LwQ', -1573.9939200660015),\n",
       " ('BsmtFinType1_Rec', -2645.3798595091976),\n",
       " ('BsmtFinType1_Unf', -2207.9590624055736),\n",
       " ('BsmtFinType2_BLQ', -7300.840639328697),\n",
       " ('BsmtFinType2_GLQ', -1930.4927583528975),\n",
       " ('BsmtFinType2_LwQ', -6183.491186180321),\n",
       " ('BsmtFinType2_Rec', -4646.459790745241),\n",
       " ('BsmtFinType2_Unf', -1993.8819254276877),\n",
       " ('Heating_GasA', 15173.899014864472),\n",
       " ('Heating_GasW', 17191.225584422198),\n",
       " ('Heating_Grav', 11340.123607690633),\n",
       " ('Heating_OthW', -7281.272527547835),\n",
       " ('Heating_Wall', 29536.390309158007),\n",
       " ('HeatingQC_Fa', -3039.8062070215883),\n",
       " ('HeatingQC_Gd', -2697.1294406000598),\n",
       " ('HeatingQC_Po', -1.4551915228366852e-10),\n",
       " ('HeatingQC_TA', -4895.2469269737485),\n",
       " ('CentralAir_Y', -2156.874830043695),\n",
       " ('Electrical_FuseF', -783.0411736219544),\n",
       " ('Electrical_FuseP', -8123.560263269419),\n",
       " ('Electrical_Mix', -479.0712504489716),\n",
       " ('Electrical_SBrkr', -4659.4402451163705),\n",
       " ('KitchenQual_Fa', -20727.036640095463),\n",
       " ('KitchenQual_Gd', -24066.878118940484),\n",
       " ('KitchenQual_TA', -22354.00668493155),\n",
       " ('GarageType_Attchd', 12179.56547796979),\n",
       " ('GarageType_Basment', 20219.97395599117),\n",
       " ('GarageType_BuiltIn', 11608.856980825882),\n",
       " ('GarageType_CarPort', 8403.351274198214),\n",
       " ('GarageType_Detchd', 11557.827649133897),\n",
       " ('GarageQual_Fa', -100228.24520112123),\n",
       " ('GarageQual_Gd', -84705.26356405577),\n",
       " ('GarageQual_Po', -111376.7251911844),\n",
       " ('GarageQual_TA', -96503.56380495428),\n",
       " ('GarageCond_Fa', 78347.83815966839),\n",
       " ('GarageCond_Gd', 78694.48751327126),\n",
       " ('GarageCond_Po', 82222.10621182535),\n",
       " ('GarageCond_TA', 76460.48372230738),\n",
       " ('Fence_GdWo', 741.0550011355685),\n",
       " ('Fence_MnPrv', 1309.059896759075),\n",
       " ('Fence_MnWw', -2.539936109004884)]"
      ]
     },
     "execution_count": 81,
     "metadata": {
      "tags": []
     },
     "output_type": "execute_result"
    }
   ],
   "source": [
    "list(zip(x_train.columns,lm.coef_))"
   ]
  },
  {
   "cell_type": "code",
   "execution_count": 0,
   "metadata": {
    "colab": {},
    "colab_type": "code",
    "id": "D3iCtDQMIS-x"
   },
   "outputs": [],
   "source": [
    "lambdas=np.linspace(0,1,20)"
   ]
  },
  {
   "cell_type": "code",
   "execution_count": 0,
   "metadata": {
    "colab": {},
    "colab_type": "code",
    "id": "pMPPyjZJIWGN"
   },
   "outputs": [],
   "source": [
    "params={'alpha':lambdas}"
   ]
  },
  {
   "cell_type": "code",
   "execution_count": 0,
   "metadata": {
    "colab": {},
    "colab_type": "code",
    "id": "Yh7epOfMIYlo"
   },
   "outputs": [],
   "source": [
    "ridge_model=Ridge(fit_intercept=True)"
   ]
  },
  {
   "cell_type": "code",
   "execution_count": 0,
   "metadata": {
    "colab": {},
    "colab_type": "code",
    "id": "YvXeFa7rIbJc"
   },
   "outputs": [],
   "source": [
    "grid_search_rd=GridSearchCV(ridge_model,param_grid=params,cv=10,scoring='neg_mean_absolute_error')"
   ]
  },
  {
   "cell_type": "code",
   "execution_count": 122,
   "metadata": {
    "colab": {
     "base_uri": "https://localhost:8080/",
     "height": 204
    },
    "colab_type": "code",
    "id": "sUwy_-a8IeW7",
    "outputId": "96e418d0-1e5f-4c23-dda8-1a5ee4f2fff2"
   },
   "outputs": [
    {
     "data": {
      "text/plain": [
       "GridSearchCV(cv=10, error_score=nan,\n",
       "             estimator=Ridge(alpha=1.0, copy_X=True, fit_intercept=True,\n",
       "                             max_iter=None, normalize=False, random_state=None,\n",
       "                             solver='auto', tol=0.001),\n",
       "             iid='deprecated', n_jobs=None,\n",
       "             param_grid={'alpha': array([0.        , 0.05263158, 0.10526316, 0.15789474, 0.21052632,\n",
       "       0.26315789, 0.31578947, 0.36842105, 0.42105263, 0.47368421,\n",
       "       0.52631579, 0.57894737, 0.63157895, 0.68421053, 0.73684211,\n",
       "       0.78947368, 0.84210526, 0.89473684, 0.94736842, 1.        ])},\n",
       "             pre_dispatch='2*n_jobs', refit=True, return_train_score=False,\n",
       "             scoring='neg_mean_absolute_error', verbose=0)"
      ]
     },
     "execution_count": 122,
     "metadata": {
      "tags": []
     },
     "output_type": "execute_result"
    }
   ],
   "source": [
    "grid_search_rd.fit(x_train,y_train)"
   ]
  },
  {
   "cell_type": "code",
   "execution_count": 123,
   "metadata": {
    "colab": {
     "base_uri": "https://localhost:8080/",
     "height": 51
    },
    "colab_type": "code",
    "id": "nCMq-6cVIjGq",
    "outputId": "814aae5c-6419-4710-ef3b-435b8a471e29"
   },
   "outputs": [
    {
     "data": {
      "text/plain": [
       "Ridge(alpha=0.05263157894736842, copy_X=True, fit_intercept=True, max_iter=None,\n",
       "      normalize=False, random_state=None, solver='auto', tol=0.001)"
      ]
     },
     "execution_count": 123,
     "metadata": {
      "tags": []
     },
     "output_type": "execute_result"
    }
   ],
   "source": [
    "grid_search_rd.best_estimator_\n",
    "#alpha=88"
   ]
  },
  {
   "cell_type": "code",
   "execution_count": 0,
   "metadata": {
    "colab": {},
    "colab_type": "code",
    "id": "MbkOOAx7IvkQ"
   },
   "outputs": [],
   "source": [
    "def report(results, n_top=3):\n",
    "    for i in range(1, n_top + 1):\n",
    "        candidates = np.flatnonzero(results['rank_test_score'] == i)\n",
    "        for candidate in candidates:\n",
    "            print(\"Model with rank: {0}\".format(i))\n",
    "            print(\"Mean validation score: {0:.3f} (std: {1:.3f})\".format(\n",
    "                  results['mean_test_score'][candidate],\n",
    "                  results['std_test_score'][candidate]))\n",
    "            print(\"Parameters: {0}\".format(results['params'][candidate]))\n",
    "            print(\"\")"
   ]
  },
  {
   "cell_type": "code",
   "execution_count": 109,
   "metadata": {
    "colab": {
     "base_uri": "https://localhost:8080/",
     "height": 221
    },
    "colab_type": "code",
    "id": "CMo6ivBnIzPY",
    "outputId": "2d9c9338-47d9-44a7-8e6d-834aec0a9129"
   },
   "outputs": [
    {
     "name": "stdout",
     "output_type": "stream",
     "text": [
      "Model with rank: 1\n",
      "Mean validation score: -18564.598 (std: 1027.561)\n",
      "Parameters: {'alpha': 8.105263157894736}\n",
      "\n",
      "Model with rank: 2\n",
      "Mean validation score: -18564.736 (std: 1035.204)\n",
      "Parameters: {'alpha': 8.578947368421051}\n",
      "\n",
      "Model with rank: 3\n",
      "Mean validation score: -18564.969 (std: 1042.715)\n",
      "Parameters: {'alpha': 9.052631578947368}\n",
      "\n"
     ]
    }
   ],
   "source": [
    "report(grid_search.cv_results_,3)"
   ]
  },
  {
   "cell_type": "code",
   "execution_count": 127,
   "metadata": {
    "colab": {
     "base_uri": "https://localhost:8080/",
     "height": 34
    },
    "colab_type": "code",
    "id": "GBoMD0KRJqQM",
    "outputId": "50407f17-605a-4ccb-bd56-3f200dcf5cce"
   },
   "outputs": [
    {
     "data": {
      "text/plain": [
       "20731.048574245317"
      ]
     },
     "execution_count": 127,
     "metadata": {
      "tags": []
     },
     "output_type": "execute_result"
    }
   ],
   "source": [
    "testing_data=validation_data.drop('SalePrice',axis=1)\n",
    "predicted=grid_search_rd.predict(testing_data)\n",
    "MAE=mean_absolute_error(validation_data['SalePrice'],predicted)\n",
    "MAE"
   ]
  },
  {
   "cell_type": "code",
   "execution_count": 128,
   "metadata": {
    "colab": {
     "base_uri": "https://localhost:8080/",
     "height": 34
    },
    "colab_type": "code",
    "id": "CxpBjOjWI2qq",
    "outputId": "09997109-9e18-4dc2-c825-2b6da81f57b3"
   },
   "outputs": [
    {
     "data": {
      "text/plain": [
       "20731.048574245317"
      ]
     },
     "execution_count": 128,
     "metadata": {
      "tags": []
     },
     "output_type": "execute_result"
    }
   ],
   "source": []
  },
  {
   "cell_type": "code",
   "execution_count": 0,
   "metadata": {
    "colab": {},
    "colab_type": "code",
    "id": "8rzGPuk8MCGP"
   },
   "outputs": [],
   "source": [
    "lambdas=np.linspace(12,20,50)"
   ]
  },
  {
   "cell_type": "code",
   "execution_count": 0,
   "metadata": {
    "colab": {},
    "colab_type": "code",
    "id": "uz_nvtJGMERE"
   },
   "outputs": [],
   "source": [
    "model1=Lasso(fit_intercept=True)\n",
    "params={'alpha':lambdas}"
   ]
  },
  {
   "cell_type": "code",
   "execution_count": 0,
   "metadata": {
    "colab": {},
    "colab_type": "code",
    "id": "mK_-s59KMHA9"
   },
   "outputs": [],
   "source": [
    "grid_search_cv=GridSearchCV(model1,param_grid=params,cv=10,scoring='neg_mean_absolute_error')"
   ]
  },
  {
   "cell_type": "code",
   "execution_count": 149,
   "metadata": {
    "colab": {
     "base_uri": "https://localhost:8080/",
     "height": 326
    },
    "colab_type": "code",
    "id": "mVINVo3kMOW6",
    "outputId": "9d42c7cf-7ba9-4432-cfcb-5d5a481b8c3d"
   },
   "outputs": [
    {
     "name": "stderr",
     "output_type": "stream",
     "text": [
      "/usr/local/lib/python3.6/dist-packages/sklearn/linear_model/_coordinate_descent.py:476: ConvergenceWarning: Objective did not converge. You might want to increase the number of iterations. Duality gap: 1025876888.5875244, tolerance: 671934674.4957632\n",
      "  positive)\n"
     ]
    },
    {
     "data": {
      "text/plain": [
       "GridSearchCV(cv=10, error_score=nan,\n",
       "             estimator=Lasso(alpha=1.0, copy_X=True, fit_intercept=True,\n",
       "                             max_iter=1000, normalize=False, positive=False,\n",
       "                             precompute=False, random_state=None,\n",
       "                             selection='cyclic', tol=0.0001, warm_start=False),\n",
       "             iid='deprecated', n_jobs=None,\n",
       "             param_grid={'alpha': array([12.        , 12.16326531, 12.32653061, 12.48979592, 12.65306122,\n",
       "       12.81632653, 12.9795918...\n",
       "       16.08163265, 16.24489796, 16.40816327, 16.57142857, 16.73469388,\n",
       "       16.89795918, 17.06122449, 17.2244898 , 17.3877551 , 17.55102041,\n",
       "       17.71428571, 17.87755102, 18.04081633, 18.20408163, 18.36734694,\n",
       "       18.53061224, 18.69387755, 18.85714286, 19.02040816, 19.18367347,\n",
       "       19.34693878, 19.51020408, 19.67346939, 19.83673469, 20.        ])},\n",
       "             pre_dispatch='2*n_jobs', refit=True, return_train_score=False,\n",
       "             scoring='neg_mean_absolute_error', verbose=0)"
      ]
     },
     "execution_count": 149,
     "metadata": {
      "tags": []
     },
     "output_type": "execute_result"
    }
   ],
   "source": [
    "grid_search_cv.fit(x_train,y_train)"
   ]
  },
  {
   "cell_type": "code",
   "execution_count": 150,
   "metadata": {
    "colab": {
     "base_uri": "https://localhost:8080/",
     "height": 68
    },
    "colab_type": "code",
    "id": "-VulB3qTMd3q",
    "outputId": "aa067cb1-1536-4399-e942-542248cb31c7"
   },
   "outputs": [
    {
     "data": {
      "text/plain": [
       "Lasso(alpha=17.714285714285715, copy_X=True, fit_intercept=True, max_iter=1000,\n",
       "      normalize=False, positive=False, precompute=False, random_state=None,\n",
       "      selection='cyclic', tol=0.0001, warm_start=False)"
      ]
     },
     "execution_count": 150,
     "metadata": {
      "tags": []
     },
     "output_type": "execute_result"
    }
   ],
   "source": [
    "lasso_model=grid_search_cv.best_estimator_\n",
    "lasso_model"
   ]
  },
  {
   "cell_type": "code",
   "execution_count": 0,
   "metadata": {
    "colab": {},
    "colab_type": "code",
    "id": "MZpe3lG8NRrB"
   },
   "outputs": [],
   "source": [
    "def report(results, n_top=3):\n",
    "    for i in range(1, n_top + 1):\n",
    "        candidates = np.flatnonzero(results['rank_test_score'] == i)\n",
    "        for candidate in candidates:\n",
    "            print(\"Model with rank: {0}\".format(i))\n",
    "            print(\"Mean validation score: {0:.3f} (std: {1:.3f})\".format(\n",
    "                  results['mean_test_score'][candidate],\n",
    "                  results['std_test_score'][candidate]))\n",
    "            print(\"Parameters: {0}\".format(results['params'][candidate]))\n",
    "            print(\"\")"
   ]
  },
  {
   "cell_type": "code",
   "execution_count": 152,
   "metadata": {
    "colab": {
     "base_uri": "https://localhost:8080/",
     "height": 221
    },
    "colab_type": "code",
    "id": "nUgknyLtNUyx",
    "outputId": "0f45b202-c359-4f4e-a708-eeeed7d5a97a"
   },
   "outputs": [
    {
     "name": "stdout",
     "output_type": "stream",
     "text": [
      "Model with rank: 1\n",
      "Mean validation score: -18022.265 (std: 1432.867)\n",
      "Parameters: {'alpha': 17.714285714285715}\n",
      "\n",
      "Model with rank: 2\n",
      "Mean validation score: -18022.296 (std: 1429.955)\n",
      "Parameters: {'alpha': 17.877551020408163}\n",
      "\n",
      "Model with rank: 3\n",
      "Mean validation score: -18022.303 (std: 1435.839)\n",
      "Parameters: {'alpha': 17.551020408163264}\n",
      "\n"
     ]
    }
   ],
   "source": [
    "report(grid_search_cv.cv_results_,3)"
   ]
  },
  {
   "cell_type": "code",
   "execution_count": 153,
   "metadata": {
    "colab": {
     "base_uri": "https://localhost:8080/",
     "height": 68
    },
    "colab_type": "code",
    "id": "Yg8oiQPANaXA",
    "outputId": "f16603f1-2195-4adc-f849-ae4e34468e5a"
   },
   "outputs": [
    {
     "data": {
      "text/plain": [
       "Lasso(alpha=17.714285714285715, copy_X=True, fit_intercept=True, max_iter=1000,\n",
       "      normalize=False, positive=False, precompute=False, random_state=None,\n",
       "      selection='cyclic', tol=0.0001, warm_start=False)"
      ]
     },
     "execution_count": 153,
     "metadata": {
      "tags": []
     },
     "output_type": "execute_result"
    }
   ],
   "source": [
    "lasso_model.fit(x_train,y_train)"
   ]
  },
  {
   "cell_type": "code",
   "execution_count": 0,
   "metadata": {
    "colab": {},
    "colab_type": "code",
    "id": "dBHbuHIANdw_"
   },
   "outputs": [],
   "source": [
    "pred = grid_search.predict(testing_data)"
   ]
  },
  {
   "cell_type": "code",
   "execution_count": 156,
   "metadata": {
    "colab": {
     "base_uri": "https://localhost:8080/",
     "height": 34
    },
    "colab_type": "code",
    "id": "IWfPIuAoNgqq",
    "outputId": "72c1d5af-0735-489d-872e-927f172c50fe"
   },
   "outputs": [
    {
     "data": {
      "text/plain": [
       "19059.22102565526"
      ]
     },
     "execution_count": 156,
     "metadata": {
      "tags": []
     },
     "output_type": "execute_result"
    }
   ],
   "source": [
    "mean_absolute_error(validation_data['SalePrice'],pred)\n",
    "#808.9139069064713"
   ]
  },
  {
   "cell_type": "code",
   "execution_count": 157,
   "metadata": {
    "colab": {
     "base_uri": "https://localhost:8080/",
     "height": 119
    },
    "colab_type": "code",
    "id": "W5wwig0oNoTj",
    "outputId": "ff1a8ee7-753f-47fa-d08d-b4548e8964dd"
   },
   "outputs": [
    {
     "data": {
      "text/plain": [
       "{'bootstrap': [True, False],\n",
       " 'max_depth': [10, 110, 11, None],\n",
       " 'max_features': ['auto', 'sqrt'],\n",
       " 'min_samples_leaf': [1, 2, 4],\n",
       " 'min_samples_split': [2, 5, 10],\n",
       " 'n_estimators': (200, 2000, 10)}"
      ]
     },
     "execution_count": 157,
     "metadata": {
      "tags": []
     },
     "output_type": "execute_result"
    }
   ],
   "source": [
    "#Generating Random Parameters\n",
    "\n",
    "# Number of trees in random forest\n",
    "n_estimators = 200,2000,10\n",
    "\n",
    "# Number of features to consider at every split\n",
    "max_features = ['auto', 'sqrt']\n",
    "\n",
    "# Maximum number of levels in tree\n",
    "max_depth = [10, 110, 11]\n",
    "max_depth.append(None)\n",
    "\n",
    "# Minimum number of samples required to split a node\n",
    "min_samples_split = [2, 5, 10]\n",
    "\n",
    "# Minimum number of samples required at each leaf node\n",
    "min_samples_leaf = [1, 2, 4]\n",
    "\n",
    "# Method of selecting samples for training each tree\n",
    "bootstrap = [True, False]\n",
    "\n",
    "# Create the random grid\n",
    "random_grid = {'n_estimators': n_estimators,\n",
    "               'max_features': max_features,\n",
    "               'max_depth': max_depth,\n",
    "               'min_samples_split': min_samples_split,\n",
    "               'min_samples_leaf': min_samples_leaf,\n",
    "               'bootstrap': bootstrap}\n",
    "random_grid"
   ]
  },
  {
   "cell_type": "code",
   "execution_count": 158,
   "metadata": {
    "colab": {
     "base_uri": "https://localhost:8080/",
     "height": 527
    },
    "colab_type": "code",
    "id": "VrlHO09ZNsSK",
    "outputId": "5aabe8d7-1852-4298-8210-d288b0976726"
   },
   "outputs": [
    {
     "name": "stdout",
     "output_type": "stream",
     "text": [
      "Fitting 5 folds for each of 10 candidates, totalling 50 fits\n"
     ]
    },
    {
     "name": "stderr",
     "output_type": "stream",
     "text": [
      "[Parallel(n_jobs=-1)]: Using backend LokyBackend with 2 concurrent workers.\n",
      "[Parallel(n_jobs=-1)]: Done  37 tasks      | elapsed:   52.3s\n",
      "[Parallel(n_jobs=-1)]: Done  50 out of  50 | elapsed:  1.4min finished\n"
     ]
    },
    {
     "data": {
      "text/plain": [
       "RandomizedSearchCV(cv=5, error_score=nan,\n",
       "                   estimator=RandomForestRegressor(bootstrap=True,\n",
       "                                                   ccp_alpha=0.0,\n",
       "                                                   criterion='mse',\n",
       "                                                   max_depth=None,\n",
       "                                                   max_features='auto',\n",
       "                                                   max_leaf_nodes=None,\n",
       "                                                   max_samples=None,\n",
       "                                                   min_impurity_decrease=0.0,\n",
       "                                                   min_impurity_split=None,\n",
       "                                                   min_samples_leaf=1,\n",
       "                                                   min_samples_split=2,\n",
       "                                                   min_weight_fraction_leaf=0.0,\n",
       "                                                   n_estimators=100,\n",
       "                                                   n_jobs=None, oob_score=False,\n",
       "                                                   random_state=None, verbose=0,\n",
       "                                                   warm_start=False),\n",
       "                   iid='deprecated', n_iter=10, n_jobs=-1,\n",
       "                   param_distributions={'bootstrap': [True, False],\n",
       "                                        'max_depth': [10, 110, 11, None],\n",
       "                                        'max_features': ['auto', 'sqrt'],\n",
       "                                        'min_samples_leaf': [1, 2, 4],\n",
       "                                        'min_samples_split': [2, 5, 10],\n",
       "                                        'n_estimators': (200, 2000, 10)},\n",
       "                   pre_dispatch='2*n_jobs', random_state=42, refit=True,\n",
       "                   return_train_score=False, scoring=None, verbose=2)"
      ]
     },
     "execution_count": 158,
     "metadata": {
      "tags": []
     },
     "output_type": "execute_result"
    }
   ],
   "source": [
    "# Use the random grid to search for best hyperparameters\n",
    "\n",
    "\n",
    "\n",
    "# First create the base model to tune\n",
    "rf = RandomForestRegressor()\n",
    "rf_random = RandomizedSearchCV(estimator = rf, param_distributions = random_grid, n_iter = 10, cv = 5, verbose=2, random_state=42, n_jobs = -1)\n",
    "\n",
    "# Fit the random search model\n",
    "rf_random.fit(x_train, y_train)"
   ]
  },
  {
   "cell_type": "code",
   "execution_count": 159,
   "metadata": {
    "colab": {
     "base_uri": "https://localhost:8080/",
     "height": 119
    },
    "colab_type": "code",
    "id": "t1rHY0axOa_r",
    "outputId": "53f75834-97fd-4ce9-dd6c-34840ab84132"
   },
   "outputs": [
    {
     "data": {
      "text/plain": [
       "{'bootstrap': False,\n",
       " 'max_depth': None,\n",
       " 'max_features': 'sqrt',\n",
       " 'min_samples_leaf': 2,\n",
       " 'min_samples_split': 2,\n",
       " 'n_estimators': 200}"
      ]
     },
     "execution_count": 159,
     "metadata": {
      "tags": []
     },
     "output_type": "execute_result"
    }
   ],
   "source": [
    "rf_random.best_params_"
   ]
  },
  {
   "cell_type": "code",
   "execution_count": 0,
   "metadata": {
    "colab": {},
    "colab_type": "code",
    "id": "DGDAVEXiOgfO"
   },
   "outputs": [],
   "source": [
    "#Running RandomForestRegressor with best parameters\n",
    "\n",
    "rf = RandomForestRegressor(n_estimators=200, bootstrap=False, max_depth=None, max_features='sqrt', min_samples_leaf=2, min_samples_split=2)"
   ]
  },
  {
   "cell_type": "code",
   "execution_count": 161,
   "metadata": {
    "colab": {
     "base_uri": "https://localhost:8080/",
     "height": 136
    },
    "colab_type": "code",
    "id": "_ENus6RROr9Y",
    "outputId": "e9c276db-4964-40c7-975a-ee9dc203d815"
   },
   "outputs": [
    {
     "data": {
      "text/plain": [
       "RandomForestRegressor(bootstrap=False, ccp_alpha=0.0, criterion='mse',\n",
       "                      max_depth=None, max_features='sqrt', max_leaf_nodes=None,\n",
       "                      max_samples=None, min_impurity_decrease=0.0,\n",
       "                      min_impurity_split=None, min_samples_leaf=2,\n",
       "                      min_samples_split=2, min_weight_fraction_leaf=0.0,\n",
       "                      n_estimators=200, n_jobs=None, oob_score=False,\n",
       "                      random_state=None, verbose=0, warm_start=False)"
      ]
     },
     "execution_count": 161,
     "metadata": {
      "tags": []
     },
     "output_type": "execute_result"
    }
   ],
   "source": [
    "rf.fit(x_train, y_train)"
   ]
  },
  {
   "cell_type": "code",
   "execution_count": 0,
   "metadata": {
    "colab": {},
    "colab_type": "code",
    "id": "VOUvFC2HPZGh"
   },
   "outputs": [],
   "source": [
    "pred = rf.predict(testing_data)"
   ]
  },
  {
   "cell_type": "code",
   "execution_count": 164,
   "metadata": {
    "colab": {
     "base_uri": "https://localhost:8080/",
     "height": 34
    },
    "colab_type": "code",
    "id": "o-5n66PQPdlm",
    "outputId": "aaa678d4-d1d5-4675-d23d-cc3783ce7a94"
   },
   "outputs": [
    {
     "data": {
      "text/plain": [
       "17661.36321020464"
      ]
     },
     "execution_count": 164,
     "metadata": {
      "tags": []
     },
     "output_type": "execute_result"
    }
   ],
   "source": [
    "mean_absolute_error(validation_data['SalePrice'],pred)\n",
    "#808.9139069064713"
   ]
  },
  {
   "cell_type": "code",
   "execution_count": 0,
   "metadata": {
    "colab": {},
    "colab_type": "code",
    "id": "_Vaju4jwO2jE"
   },
   "outputs": [],
   "source": [
    "feature_importances = pd.DataFrame(rf.feature_importances_,\n",
    "                                   index = x_train.columns,\n",
    "                                    columns=['importance']).sort_values('importance',ascending=False)"
   ]
  },
  {
   "cell_type": "code",
   "execution_count": 166,
   "metadata": {
    "colab": {
     "base_uri": "https://localhost:8080/",
     "height": 419
    },
    "colab_type": "code",
    "id": "cD_V_M6DPqtN",
    "outputId": "576b71da-00ba-484c-bdf0-612b073183c9"
   },
   "outputs": [
    {
     "data": {
      "text/html": [
       "<div>\n",
       "<style scoped>\n",
       "    .dataframe tbody tr th:only-of-type {\n",
       "        vertical-align: middle;\n",
       "    }\n",
       "\n",
       "    .dataframe tbody tr th {\n",
       "        vertical-align: top;\n",
       "    }\n",
       "\n",
       "    .dataframe thead th {\n",
       "        text-align: right;\n",
       "    }\n",
       "</style>\n",
       "<table border=\"1\" class=\"dataframe\">\n",
       "  <thead>\n",
       "    <tr style=\"text-align: right;\">\n",
       "      <th></th>\n",
       "      <th>importance</th>\n",
       "    </tr>\n",
       "  </thead>\n",
       "  <tbody>\n",
       "    <tr>\n",
       "      <th>OverallQual</th>\n",
       "      <td>0.101831</td>\n",
       "    </tr>\n",
       "    <tr>\n",
       "      <th>GarageCars</th>\n",
       "      <td>0.065914</td>\n",
       "    </tr>\n",
       "    <tr>\n",
       "      <th>GrLivArea</th>\n",
       "      <td>0.063822</td>\n",
       "    </tr>\n",
       "    <tr>\n",
       "      <th>YearBuilt</th>\n",
       "      <td>0.060428</td>\n",
       "    </tr>\n",
       "    <tr>\n",
       "      <th>1stFlrSF</th>\n",
       "      <td>0.055756</td>\n",
       "    </tr>\n",
       "    <tr>\n",
       "      <th>...</th>\n",
       "      <td>...</td>\n",
       "    </tr>\n",
       "    <tr>\n",
       "      <th>Neighborhood_Blueste</th>\n",
       "      <td>0.000000</td>\n",
       "    </tr>\n",
       "    <tr>\n",
       "      <th>BsmtCond_Po</th>\n",
       "      <td>0.000000</td>\n",
       "    </tr>\n",
       "    <tr>\n",
       "      <th>RoofMatl_Metal</th>\n",
       "      <td>0.000000</td>\n",
       "    </tr>\n",
       "    <tr>\n",
       "      <th>RoofMatl_Roll</th>\n",
       "      <td>0.000000</td>\n",
       "    </tr>\n",
       "    <tr>\n",
       "      <th>Electrical_Mix</th>\n",
       "      <td>0.000000</td>\n",
       "    </tr>\n",
       "  </tbody>\n",
       "</table>\n",
       "<p>143 rows × 1 columns</p>\n",
       "</div>"
      ],
      "text/plain": [
       "                      importance\n",
       "OverallQual             0.101831\n",
       "GarageCars              0.065914\n",
       "GrLivArea               0.063822\n",
       "YearBuilt               0.060428\n",
       "1stFlrSF                0.055756\n",
       "...                          ...\n",
       "Neighborhood_Blueste    0.000000\n",
       "BsmtCond_Po             0.000000\n",
       "RoofMatl_Metal          0.000000\n",
       "RoofMatl_Roll           0.000000\n",
       "Electrical_Mix          0.000000\n",
       "\n",
       "[143 rows x 1 columns]"
      ]
     },
     "execution_count": 166,
     "metadata": {
      "tags": []
     },
     "output_type": "execute_result"
    }
   ],
   "source": [
    "feature_importances"
   ]
  },
  {
   "cell_type": "code",
   "execution_count": 0,
   "metadata": {
    "colab": {},
    "colab_type": "code",
    "id": "btG9LS3YPudP"
   },
   "outputs": [],
   "source": [
    "pred = rf.predict(testing_data)"
   ]
  },
  {
   "cell_type": "code",
   "execution_count": 169,
   "metadata": {
    "colab": {
     "base_uri": "https://localhost:8080/",
     "height": 34
    },
    "colab_type": "code",
    "id": "XgQP0y4TP6YG",
    "outputId": "97232b06-9545-48d1-eaa2-373984eeaf7d"
   },
   "outputs": [
    {
     "data": {
      "text/plain": [
       "17661.36321020464"
      ]
     },
     "execution_count": 169,
     "metadata": {
      "tags": []
     },
     "output_type": "execute_result"
    }
   ],
   "source": [
    "mean_absolute_error(validation_data['SalePrice'],pred)\n",
    "#741.3033985923656"
   ]
  },
  {
   "cell_type": "code",
   "execution_count": 170,
   "metadata": {
    "colab": {
     "base_uri": "https://localhost:8080/",
     "height": 136
    },
    "colab_type": "code",
    "id": "T3QEx1tyRX_P",
    "outputId": "f988f420-ab14-4a02-ebb6-688f231ac27a"
   },
   "outputs": [
    {
     "data": {
      "text/plain": [
       "RandomForestRegressor(bootstrap=False, ccp_alpha=0.0, criterion='mse',\n",
       "                      max_depth=None, max_features='sqrt', max_leaf_nodes=None,\n",
       "                      max_samples=None, min_impurity_decrease=0.0,\n",
       "                      min_impurity_split=None, min_samples_leaf=2,\n",
       "                      min_samples_split=2, min_weight_fraction_leaf=0.0,\n",
       "                      n_estimators=200, n_jobs=None, oob_score=False,\n",
       "                      random_state=None, verbose=0, warm_start=False)"
      ]
     },
     "execution_count": 170,
     "metadata": {
      "tags": []
     },
     "output_type": "execute_result"
    }
   ],
   "source": [
    "#Running the model on entire train_file\n",
    "\n",
    "xtrain1 = train_file.drop('SalePrice', axis=1)\n",
    "ytrain2 = train_file['SalePrice']\n",
    "\n",
    "rf.fit(xtrain1,ytrain2)"
   ]
  },
  {
   "cell_type": "code",
   "execution_count": 0,
   "metadata": {
    "colab": {},
    "colab_type": "code",
    "id": "tzyGTMwSRfRx"
   },
   "outputs": [],
   "source": [
    "predicted_values = rf.predict(test_file)"
   ]
  },
  {
   "cell_type": "code",
   "execution_count": 172,
   "metadata": {
    "colab": {
     "base_uri": "https://localhost:8080/",
     "height": 51
    },
    "colab_type": "code",
    "id": "Tgtba9V3Rh9h",
    "outputId": "c89db6a1-a57e-4d58-8146-3269583acf0a"
   },
   "outputs": [
    {
     "data": {
      "text/plain": [
       "array([126877.80534843, 156860.76040821, 179918.11911102, 189897.52622401,\n",
       "       193373.53002931])"
      ]
     },
     "execution_count": 172,
     "metadata": {
      "tags": []
     },
     "output_type": "execute_result"
    }
   ],
   "source": [
    "predicted_values[0:5]"
   ]
  },
  {
   "cell_type": "code",
   "execution_count": 0,
   "metadata": {
    "colab": {},
    "colab_type": "code",
    "id": "-otiVjoxRlyD"
   },
   "outputs": [],
   "source": [
    "#Submission File\n",
    "pd.DataFrame(predicted_values).to_csv(\"mysubmission.csv\",index=False)"
   ]
  },
  {
   "cell_type": "code",
   "execution_count": 168,
   "metadata": {
    "colab": {
     "base_uri": "https://localhost:8080/",
     "height": 1000
    },
    "colab_type": "code",
    "id": "kv7wnmCbOvuu",
    "outputId": "05aaf49b-39f9-4742-a311-a52b85302c50"
   },
   "outputs": [
    {
     "data": {
      "text/plain": [
       "array([189000.14308845, 199236.08863178, 128877.53212816, 158497.13399123,\n",
       "       309869.29712269, 284469.27388676, 214515.93442189, 122440.98289313,\n",
       "       195501.60943357, 158315.37614989, 151469.893686  , 161277.26768732,\n",
       "       261665.02599711, 130069.00306818, 190301.26966768, 177616.72320617,\n",
       "       268149.39299998, 143611.49324541, 197387.26925513, 188625.10095238,\n",
       "       379298.02441743, 127941.41355159, 133805.23754949, 118693.20339286,\n",
       "       186068.19062807, 161399.75994751, 173249.75095238,  96147.20718975,\n",
       "       147985.96031746, 188402.19887623, 116738.62578555, 154497.06741913,\n",
       "       128506.80144311, 131871.32405892, 146330.52094517,  80945.45833333,\n",
       "       143620.03519462, 217900.6285372 , 314811.53369803, 145567.17861416,\n",
       "       212769.67921678, 122534.78151515, 110453.68815629, 153786.43113095,\n",
       "       206868.65303905, 195680.72810693, 244306.93940693, 143950.81615711,\n",
       "       126177.63900963, 165661.06252771, 194292.37831298,  90493.80809975,\n",
       "       185478.67838525, 136567.10131944, 222734.4404699 , 150389.46424235,\n",
       "       196830.02775293, 185687.36517622, 135538.84403896, 142880.64966901,\n",
       "       131530.76690366, 210406.42474719, 143981.19630357, 197713.16364839,\n",
       "       216870.98859609, 197125.80354487, 219416.51687124, 199161.76041161,\n",
       "       142084.34125992, 181102.18173842, 110453.82099206, 125873.86008268,\n",
       "       128892.2425    , 133749.42374499, 172704.74856416, 253279.42785865,\n",
       "       215082.59067704, 112836.32493202, 182534.05999384, 190854.89346371,\n",
       "       308213.77209045, 220407.68716574, 166108.50417788, 192080.51678788,\n",
       "       146261.70286888, 116354.067208  , 183381.62114109, 154997.18119048,\n",
       "       259886.03717268, 143095.66537015, 146334.26196742, 113910.48857581,\n",
       "       113073.82938492, 120637.35579248, 237912.40565701, 151808.56980449,\n",
       "       164070.58048535, 184436.02011419, 154200.51734827, 232618.29189021,\n",
       "       219561.23931096, 191103.21090163, 126355.66729167, 127138.5433404 ,\n",
       "       131662.07739484, 315365.13524724, 177921.66068407, 209013.11326389,\n",
       "       114849.38578755, 131663.59615385, 173683.75877974, 204326.83327203,\n",
       "       156871.02669913, 118079.42342322, 123052.20884848, 158367.27712721,\n",
       "       337770.68630715, 348067.14710541, 136461.327363  , 107252.29965079,\n",
       "       147078.89129011, 349205.45207696, 112976.64310107, 151993.50259279,\n",
       "       288169.77926075, 181378.5514321 , 108896.98469555, 177741.70621531,\n",
       "       231460.52031186, 188275.45762715, 117624.53977994, 176077.22849206,\n",
       "       175483.0139881 , 240415.79630693, 146382.39019841, 207123.57381582,\n",
       "        88062.72756868, 224090.57892857, 105444.58699445, 150821.47790043,\n",
       "       207285.08910714, 125037.84282323, 130366.77854437, 374802.97777448,\n",
       "       222881.29844453, 130841.64130125, 204412.7093562 , 158755.94342933,\n",
       "       277858.46399045, 159509.11797772, 260802.43880387, 173069.86317262,\n",
       "       221947.58287735, 194909.69581939, 134208.68424132, 138273.8695662 ,\n",
       "       143971.26670317, 158606.49472599, 155717.10960145, 328996.97854013,\n",
       "        83474.23141026, 320600.22700929, 323311.06497421, 167553.84576794,\n",
       "       173002.83996454, 222725.02590278, 180961.89099147, 235070.88061239,\n",
       "       299896.73849582, 183318.13768866, 123368.93966832, 213555.9869026 ,\n",
       "       130001.0665293 , 211121.44767728, 108243.27712087, 141883.32504437,\n",
       "       136945.8110877 , 253596.95656967, 348695.84818934,  87035.42386364,\n",
       "       141850.36008518, 120820.24141981, 159039.40144974, 195933.08364314,\n",
       "       113641.21240066, 438931.40101197, 216330.32896583, 159255.71766865,\n",
       "       126934.72448052, 128541.76496732, 140152.00638419, 126733.18295635,\n",
       "        99452.3050931 , 136966.82579004, 240856.96695602, 162398.61174573,\n",
       "       107995.74376984, 131127.71892857, 220861.8036234 , 228205.26244493,\n",
       "       182240.61002151, 311965.12010859, 189727.24881745, 346926.31436009,\n",
       "       281167.49027697, 134793.67961538, 161617.04053478, 338871.94157264,\n",
       "       131674.40572817, 112513.37797439, 122864.95428455,  89661.43958333,\n",
       "       106967.55128788, 113343.94852029, 174173.47084282, 144686.88465774,\n",
       "       266699.76040246, 104021.83269048,  75748.48751812, 158831.28755952,\n",
       "       135423.40185786, 148876.50451933, 104012.90446248, 250340.72137616,\n",
       "        83897.2775    , 122404.46243992, 211478.07539783, 129684.59779762,\n",
       "       306626.64894928, 126136.03930998, 221878.82939342, 153623.89952137,\n",
       "       127732.86163195, 206109.02001922, 137851.48032738, 147179.13049229,\n",
       "       229963.112917  , 132210.76311234, 292754.12474887, 125088.0162184 ,\n",
       "       108257.88280112, 167755.38031336, 178710.77496934, 292192.20996275,\n",
       "       360769.04446814, 185270.40868939, 178232.12948196, 286372.23925803,\n",
       "       151330.05458379, 191223.79133974, 213509.45927029, 213976.59532909,\n",
       "       125093.73636874, 130509.43836064, 152758.34092532, 179630.54731703,\n",
       "       328974.9878398 , 139737.98611185, 204919.58204988, 143092.51844444,\n",
       "        93691.9653869 , 188492.74084515, 129359.63835317,  97744.76075   ,\n",
       "       139907.96061857, 121044.04424278, 141619.96684829, 119772.35400794,\n",
       "       127230.42151972, 138104.67490624, 136557.25447527, 130227.2337619 ,\n",
       "       119822.42123275, 129667.38980142, 157702.78651537, 246566.82721589,\n",
       "       121405.0916891 , 194471.49682866, 170841.5831746 , 146248.78029762,\n",
       "       119688.6797123 , 104389.49148324, 293625.97535325, 153763.26559524,\n",
       "       183278.11576446, 238505.17408744, 162654.81351984,  96367.12125   ,\n",
       "       194115.33347222, 350223.52656912, 178962.984869  , 142338.53079545])"
      ]
     },
     "execution_count": 168,
     "metadata": {
      "tags": []
     },
     "output_type": "execute_result"
    }
   ],
   "source": [
    "predicted_values[0:5]"
   ]
  },
  {
   "cell_type": "code",
   "execution_count": 0,
   "metadata": {
    "colab": {},
    "colab_type": "code",
    "id": "aieQAdWWQAQu"
   },
   "outputs": [],
   "source": [
    "mean_absolute_error(validation_data['Counterfeit_Sales'],pred)\n",
    "#741.3033985923656"
   ]
  }
 ],
 "metadata": {
  "colab": {
   "name": "Untitled3.ipynb",
   "provenance": []
  },
  "kernelspec": {
   "display_name": "Python 3",
   "language": "python",
   "name": "python3"
  },
  "language_info": {
   "codemirror_mode": {
    "name": "ipython",
    "version": 3
   },
   "file_extension": ".py",
   "mimetype": "text/x-python",
   "name": "python",
   "nbconvert_exporter": "python",
   "pygments_lexer": "ipython3",
   "version": "3.7.4"
  }
 },
 "nbformat": 4,
 "nbformat_minor": 1
}
